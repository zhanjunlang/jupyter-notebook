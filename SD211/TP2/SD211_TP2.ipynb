{
 "cells": [
  {
   "cell_type": "markdown",
   "metadata": {},
   "source": [
    "# SD211 TP2"
   ]
  },
  {
   "cell_type": "code",
   "execution_count": 1,
   "metadata": {
    "collapsed": true
   },
   "outputs": [],
   "source": [
    "import numpy as np\n",
    "import math\n",
    "from scipy.optimize import check_grad\n",
    "import matplotlib.pyplot as plt\n",
    "from sklearn.metrics import classification_report"
   ]
  },
  {
   "cell_type": "code",
   "execution_count": 2,
   "metadata": {
    "collapsed": true
   },
   "outputs": [],
   "source": [
    "\n",
    "def load_diabetic_retinopathy(filename, minidata=False):\n",
    "    \"\"\"\n",
    "    Cette fonction lit le fichier filename, par exemple\n",
    "    filename = 'diabeticRetinopathy.csv'\n",
    "    Elle retourne \n",
    "    X : une matrice de caracteristiques\n",
    "    y : un vecteur des classes tel que si y[i] = 1, la tumeur est maligne\n",
    "        et si y[i] = -1, la tumeur est benigne\n",
    "\n",
    "    Pour plus d'infos sur la base de donnees,\n",
    "    http://archive.ics.uci.edu/ml/datasets/Diabetic+Retinopathy+Debrecen+Data+Set\n",
    "    \"\"\"\n",
    "\n",
    "    data = np.loadtxt(filename, delimiter=',')\n",
    "\n",
    "    y = data[:, -1] * 2 - 1\n",
    "    X = data[:, :-1]\n",
    "\n",
    "    # Standardisation de la matrice\n",
    "    X = X - np.mean(X, axis=0)\n",
    "    X = X / np.std(X, axis=0)\n",
    "\n",
    "    return X, y\n"
   ]
  },
  {
   "cell_type": "markdown",
   "metadata": {},
   "source": [
    "# 1 Régularisation de Tikhonov"
   ]
  },
  {
   "cell_type": "code",
   "execution_count": 3,
   "metadata": {
    "collapsed": true
   },
   "outputs": [],
   "source": [
    "X,y=load_diabetic_retinopathy('diabeticRetinopathy.csv')"
   ]
  },
  {
   "cell_type": "code",
   "execution_count": 4,
   "metadata": {
    "collapsed": true
   },
   "outputs": [],
   "source": [
    "X = np.c_[np.ones(X.shape[0]), X]"
   ]
  },
  {
   "cell_type": "markdown",
   "metadata": {},
   "source": [
    "## Question 1.1\n",
    "Soit $h_{i}(w,w_{0})=log(1+exp(-y_{i}(x_{i}^{T}w+w_{0})))$, <br>\n",
    "si on prend $a_i=\\begin{bmatrix}-y_{i}x_{i}\\\\ -y_{i}\\end{bmatrix}$, et $z=\\begin{bmatrix}w\\\\ w_{0}\\end{bmatrix}$, <br>\n",
    "alors $h_{i}(w,w_{0})=log(1+exp(<a_i,z>))$ ,<br>\n",
    "$\\nabla h_{i}=\\frac{exp(<a_i,z>)}{1+exp(<a_i,z>)}a_i$,<br>\n",
    "$\\nabla ^{2}h_{i}=\\frac{exp(<a_i,z>)}{(1+exp(<a_i,z>))^2}a_ia_i^T$,<br>\n",
    "$\\nabla ^{2}h_{i}$ est définie positive car $xa_ia_i^Tx^T=(xa_i)^T(xa_i)=||xa_i||^2 \\geq 0$. donc $\\nabla ^{2}h_{i}$ est convex.<br>\n",
    "On prend $g(w,w_{0})=\\frac{\\rho}{2}||w||^{2}$,<br>\n",
    "On fait le développement limité de g:$||w+h||^2=||w||^2+2<w,h>+||h||^2=||w||^2+2<w,h>+h^TI_dh$,<br>\n",
    "Par la définition de gradient et hessien, on trouve\n",
    "$\\nabla g=\\rho \\begin{bmatrix}w\\\\ 0\\end{bmatrix}$,<br>\n",
    "$\\nabla ^2 g=\\rho \\begin{bmatrix}I_d & 0\\\\ 0& 0\\end{bmatrix}$,<br>\n",
    "Pour la même raison, g est convex. Comme $f_1$ est la combinaison linéaire des fonctions convexes, donc $f_{1}$ est convexe.<br>\n",
    "$\\nabla f_{1}=\\frac{1}{n}\\sum_{i=1}^{n}\\frac{exp(<a_i,z>)}{1+exp(<a_i,z>)}a_i+\\rho \\begin{bmatrix}w\\\\ 0\\end{bmatrix}$<br>\n",
    "$\\nabla ^2 f_{1}=\\frac{1}{n}\\sum_{i=1}^{n}\\frac{exp(<a_i,z>)}{(1+exp(<a_i,z>))^2}a_ia_i^T+\\rho \\begin{bmatrix}I_d & 0\\\\0&0\\end{bmatrix}$"
   ]
  },
  {
   "cell_type": "markdown",
   "metadata": {
    "collapsed": true
   },
   "source": [
    "## Question 1.2"
   ]
  },
  {
   "cell_type": "code",
   "execution_count": 5,
   "metadata": {
    "collapsed": true
   },
   "outputs": [],
   "source": [
    "def objective(X,y,z,rho):\n",
    "    w = z[1:]\n",
    "    n1,n2 = X.shape\n",
    "    val=0\n",
    "    grad=0\n",
    "    H=0\n",
    "    for i in range(n1):\n",
    "        a = -y[i] * X[i,:]\n",
    "        t = math.exp(a.dot(z))\n",
    "        val = val+math.log(1+t)\n",
    "        grad = grad+(t/(1+t))*a\n",
    "        H = H+(t/(1+t)**2)*a.reshape(-1,1).dot(a.reshape(1,-1))\n",
    "    \n",
    "    val = 1./n1*val+rho/2*np.sum(w**2)\n",
    "    grad = 1./n1*grad+rho*np.r_[0, w]\n",
    "    M=np.eye(n2)\n",
    "    M[0][0]=0\n",
    "    H = 1./n1*H+rho*M\n",
    "    \n",
    "    return val,grad,H"
   ]
  },
  {
   "cell_type": "markdown",
   "metadata": {},
   "source": [
    "utilisation de check_grad "
   ]
  },
  {
   "cell_type": "code",
   "execution_count": 6,
   "metadata": {
    "collapsed": true
   },
   "outputs": [],
   "source": [
    "def func(z):\n",
    "    w = z[1:]\n",
    "    n1,n2 = X.shape\n",
    "    val = 0\n",
    "    for i in range(n1):\n",
    "        a = -y[i] * X[i,:]\n",
    "        t = math.exp(a.dot(z))\n",
    "        val = val+math.log(1+t)\n",
    "    val = 1./n1*val+rho/2*np.sum(w**2)\n",
    "    return val\n",
    "\n",
    "def gradient(z):\n",
    "    w = z[1:]\n",
    "    n1,n2 = X.shape\n",
    "    grad = 0\n",
    "    for i in range(n1):\n",
    "        a = -y[i] * X[i,:]\n",
    "        t = math.exp(a.dot(z))\n",
    "        grad = grad+(t/(1+t))*a\n",
    "    grad = 1./n1*grad+rho*np.r_[0, w]\n",
    "    return grad"
   ]
  },
  {
   "cell_type": "code",
   "execution_count": 7,
   "metadata": {},
   "outputs": [
    {
     "name": "stdout",
     "output_type": "stream",
     "text": [
      "la différence de gradient est 0.000006\n"
     ]
    }
   ],
   "source": [
    "rho = 1./X.shape[0]\n",
    "z = np.zeros(X.shape[1])\n",
    "print(\"la différence de gradient est %f\" % check_grad(func,gradient,z))"
   ]
  },
  {
   "cell_type": "markdown",
   "metadata": {},
   "source": [
    "## Question 1.3"
   ]
  },
  {
   "cell_type": "code",
   "execution_count": 8,
   "metadata": {
    "collapsed": true
   },
   "outputs": [],
   "source": [
    "def newton(f,X,y,z,rho):\n",
    "    G=[]\n",
    "    n1,n2=X.shape\n",
    "    grad = f(X,y,z,rho)[1]\n",
    "    H = f(X,y,z,rho)[2]\n",
    "    norme2 = math.sqrt(np.sum(grad**2))\n",
    "    G.append(norme2)\n",
    "    while norme2 > 1e-10:\n",
    "        H_=np.linalg.solve(H, np.identity(n2))\n",
    "        z=z-H_.dot(grad)\n",
    "        grad = f(X,y,z,rho)[1]\n",
    "        H = f(X,y,z,rho)[2]\n",
    "        norme2 = math.sqrt(np.sum(grad**2))\n",
    "        G.append(norme2)\n",
    "    val = f(X,y,z,rho)[0]\n",
    "    return val,G"
   ]
  },
  {
   "cell_type": "code",
   "execution_count": 9,
   "metadata": {
    "scrolled": true
   },
   "outputs": [
    {
     "name": "stdout",
     "output_type": "stream",
     "text": [
      "la valeur minimale est 0.530019\n",
      "nombre d'iteration est 8\n"
     ]
    }
   ],
   "source": [
    "z = np.zeros(X.shape[1])\n",
    "val, grad_norms= newton(objective,X,y,z,rho)\n",
    "print \"la valeur minimale est %f\" %val\n",
    "print \"nombre d'iteration est %d\" %(len(grad_norms)-1)"
   ]
  },
  {
   "cell_type": "code",
   "execution_count": 10,
   "metadata": {},
   "outputs": [
    {
     "data": {
      "image/png": "[encoded data removed]",
      "text/plain": [
       "<matplotlib.figure.Figure at 0x9719828>"
      ]
     },
     "metadata": {},
     "output_type": "display_data"
    }
   ],
   "source": [
    "plt.plot(range(0, len(grad_norms)), np.log(grad_norms))\n",
    "plt.xlabel(\"nombre d'iteration\")\n",
    "plt.ylabel(\"Norm du gradient\")\n",
    "plt.xlim(0, len(grad_norms))\n",
    "plt.show()"
   ]
  },
  {
   "cell_type": "markdown",
   "metadata": {},
   "source": [
    "## Question 1.4"
   ]
  },
  {
   "cell_type": "code",
   "execution_count": 11,
   "metadata": {},
   "outputs": [
    {
     "ename": "OverflowError",
     "evalue": "(34, 'Result too large')",
     "output_type": "error",
     "traceback": [
      "\u001b[1;31m---------------------------------------------------------------------------\u001b[0m",
      "\u001b[1;31mOverflowError\u001b[0m                             Traceback (most recent call last)",
      "\u001b[1;32m<ipython-input-11-a6ac32289c8d>\u001b[0m in \u001b[0;36m<module>\u001b[1;34m()\u001b[0m\n\u001b[0;32m      1\u001b[0m \u001b[0mz\u001b[0m \u001b[1;33m=\u001b[0m \u001b[1;36m0.3\u001b[0m\u001b[1;33m*\u001b[0m\u001b[0mnp\u001b[0m\u001b[1;33m.\u001b[0m\u001b[0mones\u001b[0m\u001b[1;33m(\u001b[0m\u001b[0mX\u001b[0m\u001b[1;33m.\u001b[0m\u001b[0mshape\u001b[0m\u001b[1;33m[\u001b[0m\u001b[1;36m1\u001b[0m\u001b[1;33m]\u001b[0m\u001b[1;33m)\u001b[0m\u001b[1;33m\u001b[0m\u001b[0m\n\u001b[1;32m----> 2\u001b[1;33m \u001b[0mval\u001b[0m\u001b[1;33m,\u001b[0m \u001b[0mgrad_norms\u001b[0m\u001b[1;33m=\u001b[0m \u001b[0mnewton\u001b[0m\u001b[1;33m(\u001b[0m\u001b[0mobjective\u001b[0m\u001b[1;33m,\u001b[0m\u001b[0mX\u001b[0m\u001b[1;33m,\u001b[0m\u001b[0my\u001b[0m\u001b[1;33m,\u001b[0m\u001b[0mz\u001b[0m\u001b[1;33m,\u001b[0m\u001b[0mrho\u001b[0m\u001b[1;33m)\u001b[0m\u001b[1;33m\u001b[0m\u001b[0m\n\u001b[0m\u001b[0;32m      3\u001b[0m \u001b[1;32mprint\u001b[0m \u001b[1;34m\"la valeur minimale est %f\"\u001b[0m \u001b[1;33m%\u001b[0m\u001b[0mval\u001b[0m\u001b[1;33m\u001b[0m\u001b[0m\n",
      "\u001b[1;32m<ipython-input-8-b54e4123e2eb>\u001b[0m in \u001b[0;36mnewton\u001b[1;34m(f, X, y, z, rho)\u001b[0m\n\u001b[0;32m      9\u001b[0m         \u001b[0mH_\u001b[0m\u001b[1;33m=\u001b[0m\u001b[0mnp\u001b[0m\u001b[1;33m.\u001b[0m\u001b[0mlinalg\u001b[0m\u001b[1;33m.\u001b[0m\u001b[0msolve\u001b[0m\u001b[1;33m(\u001b[0m\u001b[0mH\u001b[0m\u001b[1;33m,\u001b[0m \u001b[0mnp\u001b[0m\u001b[1;33m.\u001b[0m\u001b[0midentity\u001b[0m\u001b[1;33m(\u001b[0m\u001b[0mn2\u001b[0m\u001b[1;33m)\u001b[0m\u001b[1;33m)\u001b[0m\u001b[1;33m\u001b[0m\u001b[0m\n\u001b[0;32m     10\u001b[0m         \u001b[0mz\u001b[0m\u001b[1;33m=\u001b[0m\u001b[0mz\u001b[0m\u001b[1;33m-\u001b[0m\u001b[0mH_\u001b[0m\u001b[1;33m.\u001b[0m\u001b[0mdot\u001b[0m\u001b[1;33m(\u001b[0m\u001b[0mgrad\u001b[0m\u001b[1;33m)\u001b[0m\u001b[1;33m\u001b[0m\u001b[0m\n\u001b[1;32m---> 11\u001b[1;33m         \u001b[0mgrad\u001b[0m \u001b[1;33m=\u001b[0m \u001b[0mf\u001b[0m\u001b[1;33m(\u001b[0m\u001b[0mX\u001b[0m\u001b[1;33m,\u001b[0m\u001b[0my\u001b[0m\u001b[1;33m,\u001b[0m\u001b[0mz\u001b[0m\u001b[1;33m,\u001b[0m\u001b[0mrho\u001b[0m\u001b[1;33m)\u001b[0m\u001b[1;33m[\u001b[0m\u001b[1;36m1\u001b[0m\u001b[1;33m]\u001b[0m\u001b[1;33m\u001b[0m\u001b[0m\n\u001b[0m\u001b[0;32m     12\u001b[0m         \u001b[0mH\u001b[0m \u001b[1;33m=\u001b[0m \u001b[0mf\u001b[0m\u001b[1;33m(\u001b[0m\u001b[0mX\u001b[0m\u001b[1;33m,\u001b[0m\u001b[0my\u001b[0m\u001b[1;33m,\u001b[0m\u001b[0mz\u001b[0m\u001b[1;33m,\u001b[0m\u001b[0mrho\u001b[0m\u001b[1;33m)\u001b[0m\u001b[1;33m[\u001b[0m\u001b[1;36m2\u001b[0m\u001b[1;33m]\u001b[0m\u001b[1;33m\u001b[0m\u001b[0m\n\u001b[0;32m     13\u001b[0m         \u001b[0mnorme2\u001b[0m \u001b[1;33m=\u001b[0m \u001b[0mmath\u001b[0m\u001b[1;33m.\u001b[0m\u001b[0msqrt\u001b[0m\u001b[1;33m(\u001b[0m\u001b[0mnp\u001b[0m\u001b[1;33m.\u001b[0m\u001b[0msum\u001b[0m\u001b[1;33m(\u001b[0m\u001b[0mgrad\u001b[0m\u001b[1;33m**\u001b[0m\u001b[1;36m2\u001b[0m\u001b[1;33m)\u001b[0m\u001b[1;33m)\u001b[0m\u001b[1;33m\u001b[0m\u001b[0m\n",
      "\u001b[1;32m<ipython-input-5-48f1e96ed726>\u001b[0m in \u001b[0;36mobjective\u001b[1;34m(X, y, z, rho)\u001b[0m\n\u001b[0;32m     10\u001b[0m         \u001b[0mval\u001b[0m \u001b[1;33m=\u001b[0m \u001b[0mval\u001b[0m\u001b[1;33m+\u001b[0m\u001b[0mmath\u001b[0m\u001b[1;33m.\u001b[0m\u001b[0mlog\u001b[0m\u001b[1;33m(\u001b[0m\u001b[1;36m1\u001b[0m\u001b[1;33m+\u001b[0m\u001b[0mt\u001b[0m\u001b[1;33m)\u001b[0m\u001b[1;33m\u001b[0m\u001b[0m\n\u001b[0;32m     11\u001b[0m         \u001b[0mgrad\u001b[0m \u001b[1;33m=\u001b[0m \u001b[0mgrad\u001b[0m\u001b[1;33m+\u001b[0m\u001b[1;33m(\u001b[0m\u001b[0mt\u001b[0m\u001b[1;33m/\u001b[0m\u001b[1;33m(\u001b[0m\u001b[1;36m1\u001b[0m\u001b[1;33m+\u001b[0m\u001b[0mt\u001b[0m\u001b[1;33m)\u001b[0m\u001b[1;33m)\u001b[0m\u001b[1;33m*\u001b[0m\u001b[0ma\u001b[0m\u001b[1;33m\u001b[0m\u001b[0m\n\u001b[1;32m---> 12\u001b[1;33m         \u001b[0mH\u001b[0m \u001b[1;33m=\u001b[0m \u001b[0mH\u001b[0m\u001b[1;33m+\u001b[0m\u001b[1;33m(\u001b[0m\u001b[0mt\u001b[0m\u001b[1;33m/\u001b[0m\u001b[1;33m(\u001b[0m\u001b[1;36m1\u001b[0m\u001b[1;33m+\u001b[0m\u001b[0mt\u001b[0m\u001b[1;33m)\u001b[0m\u001b[1;33m**\u001b[0m\u001b[1;36m2\u001b[0m\u001b[1;33m)\u001b[0m\u001b[1;33m*\u001b[0m\u001b[0ma\u001b[0m\u001b[1;33m.\u001b[0m\u001b[0mreshape\u001b[0m\u001b[1;33m(\u001b[0m\u001b[1;33m-\u001b[0m\u001b[1;36m1\u001b[0m\u001b[1;33m,\u001b[0m\u001b[1;36m1\u001b[0m\u001b[1;33m)\u001b[0m\u001b[1;33m.\u001b[0m\u001b[0mdot\u001b[0m\u001b[1;33m(\u001b[0m\u001b[0ma\u001b[0m\u001b[1;33m.\u001b[0m\u001b[0mreshape\u001b[0m\u001b[1;33m(\u001b[0m\u001b[1;36m1\u001b[0m\u001b[1;33m,\u001b[0m\u001b[1;33m-\u001b[0m\u001b[1;36m1\u001b[0m\u001b[1;33m)\u001b[0m\u001b[1;33m)\u001b[0m\u001b[1;33m\u001b[0m\u001b[0m\n\u001b[0m\u001b[0;32m     13\u001b[0m \u001b[1;33m\u001b[0m\u001b[0m\n\u001b[0;32m     14\u001b[0m     \u001b[0mval\u001b[0m \u001b[1;33m=\u001b[0m \u001b[1;36m1.\u001b[0m\u001b[1;33m/\u001b[0m\u001b[0mn1\u001b[0m\u001b[1;33m*\u001b[0m\u001b[0mval\u001b[0m\u001b[1;33m+\u001b[0m\u001b[0mrho\u001b[0m\u001b[1;33m/\u001b[0m\u001b[1;36m2\u001b[0m\u001b[1;33m*\u001b[0m\u001b[0mnp\u001b[0m\u001b[1;33m.\u001b[0m\u001b[0msum\u001b[0m\u001b[1;33m(\u001b[0m\u001b[0mw\u001b[0m\u001b[1;33m**\u001b[0m\u001b[1;36m2\u001b[0m\u001b[1;33m)\u001b[0m\u001b[1;33m\u001b[0m\u001b[0m\n",
      "\u001b[1;31mOverflowError\u001b[0m: (34, 'Result too large')"
     ]
    }
   ],
   "source": [
    "z = 0.3*np.ones(X.shape[1])\n",
    "val, grad_norms= newton(objective,X,y,z,rho)\n",
    "print \"la valeur minimale est %f\" %val"
   ]
  },
  {
   "cell_type": "markdown",
   "metadata": {},
   "source": [
    "Du coup, on voit que l'algorithme n'est pas convergent."
   ]
  },
  {
   "cell_type": "markdown",
   "metadata": {},
   "source": [
    "## Question 1.5"
   ]
  },
  {
   "cell_type": "code",
   "execution_count": 12,
   "metadata": {
    "collapsed": true
   },
   "outputs": [],
   "source": [
    "def newton_armijo(func, X, y, z, rho, a, b, beta):\n",
    "    n1,n2 = X.shape\n",
    "    val, grad, H = func(X,y,z,rho)\n",
    "    grad_norm = math.sqrt(np.sum(grad**2))\n",
    "    norms = [grad_norm]\n",
    "    d = np.linalg.solve(H, np.identity(n2)).dot(grad)\n",
    "    gamma = b / 2.\n",
    "    cnt = 0\n",
    "    while (grad_norm > 1e-10):\n",
    "        gamma = 2*gamma\n",
    "        val_ = func(X , y , z - gamma*d, rho)[0]\n",
    "        while (val_ > val - beta*gamma*d.dot(grad)):\n",
    "            gamma = gamma*a\n",
    "            val_ = func(X , y, z - gamma*d, rho)[0]\n",
    "        z = z - gamma*d\n",
    "        val, grad, H = func(X, y, z, rho)\n",
    "        d = np.linalg.solve(H, np.identity(n2)).dot(grad)\n",
    "        grad_norm = np.sqrt(np.sum(grad**2))\n",
    "        norms.append(grad_norm)\n",
    "        cnt = cnt + 1\n",
    "    return val, norms,z"
   ]
  },
  {
   "cell_type": "markdown",
   "metadata": {},
   "source": [
    "La choix classique de recherche linéaire  est a=0.5 et $b=\\gamma_{k-1}$. Comme $\\gamma$ dans la méthode de Newton originale est 1 par défaut, on prend b=2. Pour $\\beta$, on prend 0.5 comme sa valeur et donc on devient à la recherche linéaire de Taylor-Based."
   ]
  },
  {
   "cell_type": "code",
   "execution_count": 13,
   "metadata": {},
   "outputs": [
    {
     "name": "stdout",
     "output_type": "stream",
     "text": [
      "la valeur minimale est: 0.530019\n",
      "nombre d'iteration est 7\n",
      "les parametres sont:\n",
      "[ 0.67731198  0.28526576 -0.24554742  5.61365006  0.9888679  -1.82791918\n",
      " -2.55695256 -1.58747255  0.43396361  0.48515529 -0.40441764  0.17280405\n",
      " -0.57564945  0.43832626 -0.62435831  1.25356177  0.72621094 -0.00607139\n",
      " -0.1490878  -0.09505212]\n"
     ]
    }
   ],
   "source": [
    "rho = 1./X.shape[0]\n",
    "a = 0.5\n",
    "b = 2\n",
    "beta = 0.5\n",
    "z = 0.3*np.ones(X.shape[1])\n",
    "val, norms,z1 = newton_armijo(objective, X, y, z, rho, a, b, beta)\n",
    "print \"la valeur minimale est: %f\" % val\n",
    "print \"nombre d'iteration est %d\" % (len(norms)-1)\n",
    "print \"les parametres sont:\"\n",
    "print z1"
   ]
  },
  {
   "cell_type": "code",
   "execution_count": 14,
   "metadata": {},
   "outputs": [
    {
     "data": {
      "image/png": "[encoded data removed]",
      "text/plain": [
       "<matplotlib.figure.Figure at 0x89aaf28>"
      ]
     },
     "metadata": {},
     "output_type": "display_data"
    }
   ],
   "source": [
    "plt.plot(range(0, len(norms)), np.log(norms))\n",
    "plt.xlabel(\"nombre d'iteration\")\n",
    "plt.ylabel(\"Norm du gradient\")\n",
    "plt.xlim(0, len(norms))\n",
    "plt.show()"
   ]
  },
  {
   "cell_type": "markdown",
   "metadata": {},
   "source": [
    "# 2 Régularisation pour la parcimonie"
   ]
  },
  {
   "cell_type": "markdown",
   "metadata": {},
   "source": [
    "## Question 2.1"
   ]
  },
  {
   "cell_type": "markdown",
   "metadata": {},
   "source": [
    "Parce que  $||\\cdot||_1$ n'est pas dérivable."
   ]
  },
  {
   "cell_type": "markdown",
   "metadata": {},
   "source": [
    "## Question 2.2"
   ]
  },
  {
   "cell_type": "markdown",
   "metadata": {},
   "source": [
    "$F_2=f_2+g_2$ où <br>\n",
    "$f_2(w,w_{0})=\\sum_{i=1}^{n}log(1+exp(-y_{i}(x_{i}^{T}w+w_{0})))$, et <br> \n",
    "$g_2(w,w_{0})=\\rho ||w||_1$ <br>\n",
    "L'opérateur proximal de $g_2$ est $prox_{\\gamma g}(u)=argmin_{y}(\\gamma g(y)+\\frac{||y-u||^2}{2})$<br>\n",
    "Dans la Question 1.1, on a prouvé que $f_2$ est convexe. Comme norme 1 est convexe, $g_2$ est convexe donc $F_2$ est convexe."
   ]
  },
  {
   "cell_type": "markdown",
   "metadata": {},
   "source": [
    "## Question 2.3"
   ]
  },
  {
   "cell_type": "markdown",
   "metadata": {},
   "source": [
    "$prox_{\\gamma g}(u)=argmin_{y}(\\gamma g(y)+\\frac{||y-u||^2}{2})=argmin_{y}(\\gamma \\rho ||y||_1 + \\frac{||y-u||^2}{2})$ <br>\n",
    "$=\\sum_{i=1}^n argmin_{y_i}(\\gamma \\rho |y_i|+\\frac{(y_i -u)^2}{2})$<br><br>\n",
    "Cas 1, $y_i \\geq 0$:<br>\n",
    "$argmin_{y_i}(\\gamma \\rho |y_i|+\\frac{(y_i -u)^2}{2})=argmin_{y_i}(2\\gamma \\rho y_i+y_i^2+u^2-2y_i u)=argmin_{y_i}((y_i-(u-\\gamma \\rho))^2)$<br>\n",
    "si $u-\\gamma \\rho>0$ i.e $u>\\gamma \\rho$, $y_i^*=u-\\gamma\\rho$,<br>\n",
    "si $u-\\gamma \\rho<0$ i.e $u<\\gamma \\rho$, $y_i^*=0$<br><br>\n",
    "Cas 2, $y_i \\leq 0$:<br>\n",
    "$argmin_{y_i}(\\gamma \\rho |y_i|+\\frac{(y_i -u)^2}{2})=argmin_{y_i}(-2\\gamma \\rho y_i+y_i^2+u^2-2y_i u)=argmin_{y_i}((y_i-(u+\\gamma \\rho))^2)$<br>\n",
    "si $u+\\gamma \\rho<0$ i.e $u<-\\gamma \\rho$, $y_i^*=u+\\gamma\\rho$,<br>\n",
    "si $u+\\gamma \\rho>0$ i.e $u>-\\gamma \\rho$, $y_i^*=0$<br><br>\n",
    "En conclusion,$y_i^*=\\left\\{\\begin{matrix}\n",
    "u-\\gamma \\rho,u>\\gamma \\rho\n",
    "\\\\ u+\\gamma \\rho,u<-\\gamma \\rho\n",
    "\\\\ 0,-\\gamma \\rho<u<\\gamma \\rho\n",
    "\\end{matrix}\\right.$<br>\n",
    "Ensuite, pour chercher $\\gamma$, on utilise la recherche linéaire de Taylor."
   ]
  },
  {
   "cell_type": "code",
   "execution_count": 15,
   "metadata": {
    "collapsed": true
   },
   "outputs": [],
   "source": [
    "def f2(z, X, y):\n",
    "    n1,n2 = X.shape\n",
    "    val=0\n",
    "    grad=0\n",
    "    for i in range(n1):\n",
    "        a = -y[i] * X[i,:]\n",
    "        t = math.exp(a.dot(z))\n",
    "        val = val+math.log(1+t)\n",
    "        grad = grad+(t/(1+t))*a\n",
    "    \n",
    "    val = 1./n1*val\n",
    "    grad = 1./n1*grad\n",
    "\n",
    "    return val, grad\n",
    "\n",
    "def g2(z,rho):\n",
    "    return rho*np.sum(abs(z))\n",
    "\n",
    "def prox_min(u, k):\n",
    "    n = u.shape[0]\n",
    "    y = np.zeros(n)\n",
    "    y[0] = u[0]\n",
    "    for i in range(1,n):\n",
    "        if u[i]>k:\n",
    "            y[i] = u[i] - k\n",
    "        elif u[i]<-k:\n",
    "            y[i] = u[i] + k\n",
    "        else:\n",
    "            pass\n",
    "    \n",
    "    return y\n",
    "\n",
    "def proximal_gradient(f,g, prox_min, z, X, y, rho, a, b, stop):\n",
    "    val, grad = f(z, X, y)\n",
    "    gamma = b / 2.\n",
    "    gap = stop*2\n",
    "    iteration = 0\n",
    "    while (gap > stop ):\n",
    "        gamma = 2*gamma\n",
    "        z_ = prox_min(z - gamma*grad, gamma*rho)\n",
    "        val_ = f(z_, X, y)[0]\n",
    "        while (val_ > val + grad.dot(z_-z) + np.sum((z-z_)**2)/(2*gamma)):\n",
    "            gamma = gamma*a\n",
    "            z_ = prox_min(z - gamma*grad, gamma*rho)\n",
    "            val_ = f(z_, X, y)[0]\n",
    "        obj = val + rho*np.sum(abs(z[1:]))\n",
    "        obj_ = val_ + rho*np.sum(abs(z[1:]))\n",
    "        gap = abs(obj - obj_)\n",
    "        z = z_\n",
    "        val, grad = f(z, X, y)\n",
    "        iteration = iteration + 1\n",
    "    return obj_ , iteration,z"
   ]
  },
  {
   "cell_type": "code",
   "execution_count": 16,
   "metadata": {},
   "outputs": [
    {
     "name": "stdout",
     "output_type": "stream",
     "text": [
      "la valeur minimale obtenue est: 0.686959\n",
      "nombre d'iteration: 11\n",
      "les parametres sont:\n",
      "[ 0.12499102  0.          0.          0.18733049  0.          0.          0.\n",
      "  0.          0.          0.          0.          0.          0.          0.\n",
      "  0.          0.          0.          0.          0.          0.        ]\n"
     ]
    }
   ],
   "source": [
    "rho = 0.1\n",
    "a = 0.5\n",
    "b = 1\n",
    "z = 0.3*np.ones(X.shape[1])\n",
    "val,iteration,z2  = proximal_gradient(f2,g2,prox_min, z, X, y, rho, a, b, 1e-10)\n",
    "print \"la valeur minimale obtenue est: %f\" % val\n",
    "print \"nombre d'iteration: %d\" % iteration\n",
    "print \"les parametres sont:\"\n",
    "print z2"
   ]
  },
  {
   "cell_type": "markdown",
   "metadata": {},
   "source": [
    "# 3 Comparaison"
   ]
  },
  {
   "cell_type": "markdown",
   "metadata": {},
   "source": [
    "## Question 3.1"
   ]
  },
  {
   "cell_type": "markdown",
   "metadata": {},
   "source": [
    "1.La fonction objective de la régularisation de Tikhonov est différentiable, mais celle de la régularisation  pour la parcimonie n'est pas différentiable. Ils sont tout convexes.\n",
    "<br><br>\n",
    "2.Selon les paramètres w,w0 obtenus, la régularisation de Tikhonov utilise tout les paramètres, mais la régularisation  pour la parcimonie utilise seulement deux paramètres. "
   ]
  },
  {
   "cell_type": "markdown",
   "metadata": {},
   "source": [
    "## Question 3.2"
   ]
  },
  {
   "cell_type": "markdown",
   "metadata": {},
   "source": [
    "On calcule la précision de cette deux méthode."
   ]
  },
  {
   "cell_type": "code",
   "execution_count": 17,
   "metadata": {
    "collapsed": true
   },
   "outputs": [],
   "source": [
    "def proba(x,y,z):\n",
    "    t = math.exp(-(z.dot(x)))\n",
    "    if y == 1:\n",
    "        return 1./(1+t)\n",
    "    else:\n",
    "        return 1-1./(1+t)"
   ]
  },
  {
   "cell_type": "code",
   "execution_count": 18,
   "metadata": {},
   "outputs": [
    {
     "name": "stdout",
     "output_type": "stream",
     "text": [
      "la precision de la regularisation de Tikhonov:  0.741095\n",
      "la precision de la regularisation de pour la parcimonie: 0.609904\n"
     ]
    }
   ],
   "source": [
    "n = X.shape[0]\n",
    "correct_count1 = 0\n",
    "correct_count2 = 0\n",
    "for i in range(n):\n",
    "    p1 = proba(X[i,:],y[i],z1)\n",
    "    p2 = proba(X[i,:],y[i],z2)\n",
    "    if p1>0.5:\n",
    "        correct_count1 = correct_count1 + 1\n",
    "    if p2>0.5:\n",
    "        correct_count2 = correct_count2 + 1\n",
    "\n",
    "precision1 = 1.*correct_count1/n\n",
    "precision2 = 1.*correct_count2/n\n",
    "print \"la precision de la regularisation de Tikhonov:  %f\" % precision1 \n",
    "print \"la precision de la regularisation de pour la parcimonie: %f\" % precision2"
   ]
  },
  {
   "cell_type": "markdown",
   "metadata": {},
   "source": [
    "On peut conclure que la regularisation de Tikhonov a une meilleure performance."
   ]
  },
  {
   "cell_type": "code",
   "execution_count": 22,
   "metadata": {},
   "outputs": [
    {
     "name": "stdout",
     "output_type": "stream",
     "text": [
      "Newton + recherche lineaire:\n",
      "\n",
      "             precision    recall  f1-score   support\n",
      "\n",
      "       -1.0       0.69      0.82      0.75       540\n",
      "        1.0       0.81      0.67      0.73       611\n",
      "\n",
      "avg / total       0.75      0.74      0.74      1151\n",
      "\n",
      "Gradient proximal + recherche lineaire:\n",
      "\n",
      "             precision    recall  f1-score   support\n",
      "\n",
      "       -1.0       0.61      0.46      0.52       540\n",
      "        1.0       0.61      0.75      0.67       611\n",
      "\n",
      "avg / total       0.61      0.61      0.60      1151\n",
      "\n"
     ]
    }
   ],
   "source": [
    "pred_y1 = np.sign(X.dot(z1))\n",
    "pred_y2 = np.sign(X.dot(z2))\n",
    "print (\"Newton + recherche lineaire:\\n\")\n",
    "print (classification_report(y, pred_y1))\n",
    "print (\"Gradient proximal + recherche lineaire:\\n\")\n",
    "print (classification_report(y, pred_y2))"
   ]
  },
  {
   "cell_type": "code",
   "execution_count": null,
   "metadata": {
    "collapsed": true
   },
   "outputs": [],
   "source": []
  }
 ],
 "metadata": {
  "kernelspec": {
   "display_name": "Python 2",
   "language": "python",
   "name": "python2"
  },
  "language_info": {
   "codemirror_mode": {
    "name": "ipython",
    "version": 2
   },
   "file_extension": ".py",
   "mimetype": "text/x-python",
   "name": "python",
   "nbconvert_exporter": "python",
   "pygments_lexer": "ipython2",
   "version": "2.7.13"
  }
 },
 "nbformat": 4,
 "nbformat_minor": 2
}
