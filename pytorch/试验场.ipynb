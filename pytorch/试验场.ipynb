{
 "cells": [
  {
   "cell_type": "code",
   "execution_count": 1,
   "metadata": {
    "collapsed": true
   },
   "outputs": [],
   "source": [
    "import torch\n",
    "import numpy as np"
   ]
  },
  {
   "cell_type": "code",
   "execution_count": 2,
   "metadata": {},
   "outputs": [
    {
     "name": "stdout",
     "output_type": "stream",
     "text": [
      "[[0 1 2]\n",
      " [3 4 5]]\n",
      "\n",
      " 0  1  2\n",
      " 3  4  5\n",
      "[torch.LongTensor of size 2x3]\n",
      "\n"
     ]
    }
   ],
   "source": [
    "np_data = np.arange(6).reshape((2,3))\n",
    "torch_data = torch.from_numpy(np_data)\n",
    "print(np_data)\n",
    "print(torch_data)"
   ]
  },
  {
   "cell_type": "code",
   "execution_count": 3,
   "metadata": {},
   "outputs": [
    {
     "name": "stdout",
     "output_type": "stream",
     "text": [
      "[[0 1 2]\n",
      " [3 4 5]]\n"
     ]
    }
   ],
   "source": [
    "print(torch_data.numpy())"
   ]
  },
  {
   "cell_type": "code",
   "execution_count": 4,
   "metadata": {},
   "outputs": [
    {
     "name": "stdout",
     "output_type": "stream",
     "text": [
      "[1 2 1 1]\n",
      "\n",
      " 1\n",
      " 2\n",
      " 1\n",
      " 1\n",
      "[torch.FloatTensor of size 4]\n",
      "\n"
     ]
    }
   ],
   "source": [
    "data = [-1,-2,1,1]\n",
    "tensor = torch.Tensor(data)\n",
    "print(np.abs(data))\n",
    "print(np.abs(tensor))"
   ]
  },
  {
   "cell_type": "code",
   "execution_count": 5,
   "metadata": {},
   "outputs": [
    {
     "name": "stdout",
     "output_type": "stream",
     "text": [
      "[[-1  0]\n",
      " [ 0 -1]]\n",
      "\n",
      "-1  0\n",
      " 0 -1\n",
      "[torch.FloatTensor of size 2x2]\n",
      "\n"
     ]
    }
   ],
   "source": [
    "data = [[-1,-2],[1,1]]\n",
    "tensor = torch.Tensor(data)\n",
    "print(np.matmul(data,data))\n",
    "print(torch.mm(tensor,tensor))"
   ]
  },
  {
   "cell_type": "code",
   "execution_count": 6,
   "metadata": {
    "collapsed": true
   },
   "outputs": [],
   "source": [
    "from torch.autograd import Variable"
   ]
  },
  {
   "cell_type": "code",
   "execution_count": 7,
   "metadata": {},
   "outputs": [
    {
     "name": "stdout",
     "output_type": "stream",
     "text": [
      "Variable containing:\n",
      " 1  2\n",
      " 3  4\n",
      "[torch.FloatTensor of size 2x2]\n",
      "\n"
     ]
    }
   ],
   "source": [
    "tensor = torch.FloatTensor([[1,2],[3,4]])\n",
    "var = Variable(tensor, requires_grad = True)\n",
    "print(var)"
   ]
  },
  {
   "cell_type": "code",
   "execution_count": 8,
   "metadata": {},
   "outputs": [
    {
     "name": "stdout",
     "output_type": "stream",
     "text": [
      "Variable containing:\n",
      " 0.5000  1.0000\n",
      " 1.5000  2.0000\n",
      "[torch.FloatTensor of size 2x2]\n",
      "\n"
     ]
    }
   ],
   "source": [
    "v_out = torch.mean(var*var)\n",
    "v_out.backward()\n",
    "print(var.grad)"
   ]
  },
  {
   "cell_type": "code",
   "execution_count": 9,
   "metadata": {},
   "outputs": [
    {
     "name": "stdout",
     "output_type": "stream",
     "text": [
      "[[ 1.  2.]\n",
      " [ 3.  4.]]\n"
     ]
    }
   ],
   "source": [
    "print(var.data.numpy())"
   ]
  },
  {
   "cell_type": "markdown",
   "metadata": {},
   "source": [
    "将线性变成非线性y = AF(WX)<br>\n",
    "常见激励函数：relu sigmoid tanh<br>\n",
    "少量层：随便选<br>\n",
    "卷积：relu<br>\n",
    "循环：relu tanh"
   ]
  },
  {
   "cell_type": "code",
   "execution_count": 10,
   "metadata": {
    "collapsed": true
   },
   "outputs": [],
   "source": [
    "import torch.nn.functional as F\n",
    "from torch.autograd import Variable\n",
    "import matplotlib.pyplot as plt"
   ]
  },
  {
   "cell_type": "code",
   "execution_count": null,
   "metadata": {
    "collapsed": true
   },
   "outputs": [],
   "source": []
  },
  {
   "cell_type": "code",
   "execution_count": 11,
   "metadata": {},
   "outputs": [
    {
     "data": {
      "image/png": "[encoded data removed]",
      "text/plain": [
       "<matplotlib.figure.Figure at 0x117e532e8>"
      ]
     },
     "metadata": {},
     "output_type": "display_data"
    }
   ],
   "source": [
    "x = torch.linspace(-5,5,200)\n",
    "x = Variable(x)\n",
    "x_np = x.data.numpy()\n",
    "\n",
    "y_relu = F.relu(x).data.numpy()\n",
    "y_sigmoid = F.sigmoid(x).data.numpy()\n",
    "y_tanh = F.tanh(x).data.numpy()\n",
    "y_softplus = F.softplus(x).data.numpy()\n",
    "\n",
    "plt.subplot(221)\n",
    "plt.plot(x_np,y_relu)\n",
    "plt.subplot(222)\n",
    "plt.plot(x_np,y_sigmoid)\n",
    "plt.subplot(223)\n",
    "plt.plot(x_np,y_tanh)\n",
    "plt.subplot(224)\n",
    "plt.plot(x_np,y_softplus)\n",
    "plt.show()"
   ]
  },
  {
   "cell_type": "markdown",
   "metadata": {},
   "source": [
    "回归"
   ]
  },
  {
   "cell_type": "code",
   "execution_count": 12,
   "metadata": {},
   "outputs": [
    {
     "data": {
      "image/png": "[encoded data removed]",
      "text/plain": [
       "<matplotlib.figure.Figure at 0x10c91d8d0>"
      ]
     },
     "metadata": {},
     "output_type": "display_data"
    }
   ],
   "source": [
    "#将一维变2维，torch只会处理2维以上的数据\n",
    "x = torch.unsqueeze(torch.linspace(-1,1,100),dim = 1)\n",
    "y = x.pow(2) + 0.2*torch.rand(x.size())\n",
    "x = Variable(x)\n",
    "y = Variable(y)\n",
    "plt.scatter(x.data.numpy(),y.data.numpy())\n",
    "plt.show()"
   ]
  },
  {
   "cell_type": "code",
   "execution_count": 13,
   "metadata": {
    "collapsed": true
   },
   "outputs": [],
   "source": [
    "class Demo(torch.nn.Module):\n",
    "    def __init__(self):\n",
    "        super(Demo,self).__init__()\n",
    "    \n",
    "    def forward(self):\n",
    "        pass"
   ]
  },
  {
   "cell_type": "code",
   "execution_count": 14,
   "metadata": {
    "collapsed": true
   },
   "outputs": [],
   "source": [
    "class Net(torch.nn.Module):\n",
    "    def __init__(self,n_feature,n_hidden,n_output):\n",
    "        super(Net,self).__init__()\n",
    "        #隐藏层，参数：输入数据的维数和输出神经元的个数\n",
    "        self.hidden = torch.nn.Linear(n_feature,n_hidden)\n",
    "        #输出层，参数：输入为隐藏层的神经元个数和输出最后输出神经元的个数\n",
    "        self.predict = torch.nn.Linear(n_hidden,n_output)\n",
    "    \n",
    "    def forward(self,x):\n",
    "        x = F.relu(self.hidden(x))\n",
    "        #预测层在回归问题中一般不用激励函数，因为激励函数会把结果的取值\n",
    "        #限定在一个范围内\n",
    "        x = self.predict(x)\n",
    "        return x"
   ]
  },
  {
   "cell_type": "code",
   "execution_count": 15,
   "metadata": {},
   "outputs": [
    {
     "name": "stdout",
     "output_type": "stream",
     "text": [
      "Net(\n",
      "  (hidden): Linear(in_features=1, out_features=10, bias=True)\n",
      "  (predict): Linear(in_features=10, out_features=1, bias=True)\n",
      ")\n"
     ]
    }
   ],
   "source": [
    "net =  Net(1,10,1)\n",
    "print(net)"
   ]
  },
  {
   "cell_type": "code",
   "execution_count": 16,
   "metadata": {
    "collapsed": true
   },
   "outputs": [],
   "source": [
    "#lr学习效率\n",
    "optimizer = torch.optim.SGD(net.parameters(), lr=0.5)\n",
    "loss_func = torch.nn.MSELoss()"
   ]
  },
  {
   "cell_type": "code",
   "execution_count": 17,
   "metadata": {},
   "outputs": [
    {
     "name": "stdout",
     "output_type": "stream",
     "text": [
      "Variable containing:\n",
      " 0.4209\n",
      "[torch.FloatTensor of size 1]\n",
      "\n",
      "Variable containing:\n",
      "1.00000e-03 *\n",
      "  8.6817\n",
      "[torch.FloatTensor of size 1]\n",
      "\n",
      "Variable containing:\n",
      "1.00000e-03 *\n",
      "  4.8917\n",
      "[torch.FloatTensor of size 1]\n",
      "\n",
      "Variable containing:\n",
      "1.00000e-03 *\n",
      "  3.9663\n",
      "[torch.FloatTensor of size 1]\n",
      "\n"
     ]
    }
   ],
   "source": [
    "for t in range(200): #训练步数\n",
    "    prediction = net(x)\n",
    "    \n",
    "    loss = loss_func(prediction,y)\n",
    "    if(t%50 == 0):\n",
    "        print(loss)\n",
    "    optimizer.zero_grad() #之前的梯度清零\n",
    "    loss.backward()       #反向传播求梯度\n",
    "    optimizer.step()      #梯度下降走一步"
   ]
  },
  {
   "cell_type": "markdown",
   "metadata": {},
   "source": [
    "分类"
   ]
  },
  {
   "cell_type": "code",
   "execution_count": 18,
   "metadata": {
    "collapsed": true
   },
   "outputs": [],
   "source": [
    "n_data = torch.ones(100,2)\n",
    "x0 = torch.normal(2*n_data,1)\n",
    "y0 = torch.zeros(100)\n",
    "x1 = torch.normal(-2*n_data,1)\n",
    "y1 = torch.ones(100)\n",
    "x = torch.cat((x0,x1),0).type(torch.FloatTensor)\n",
    "y = torch.cat((y0,y1),).type(torch.LongTensor)\n",
    "x,y = Variable(x),Variable(y)"
   ]
  },
  {
   "cell_type": "code",
   "execution_count": 19,
   "metadata": {
    "collapsed": true
   },
   "outputs": [],
   "source": [
    "class Net2(torch.nn.Module):\n",
    "    def __init__(self,n_feature,n_hidden,n_output):\n",
    "        super(Net2,self).__init__()\n",
    "        #隐藏层，参数：输入数据的维数和输出神经元的个数\n",
    "        self.hidden = torch.nn.Linear(n_feature,n_hidden)\n",
    "        #输出层，参数：输入为隐藏层的神经元个数和输出最后输出神经元的个数\n",
    "        self.predict = torch.nn.Linear(n_hidden,n_output)\n",
    "    \n",
    "    def forward(self,x):\n",
    "        x = F.relu(self.hidden(x))\n",
    "        #预测层在回归问题中一般不用激励函数，因为激励函数会把结果的取值\n",
    "        #限定在一个范围内\n",
    "        x = F.softmax(self.predict(x))\n",
    "        return x"
   ]
  },
  {
   "cell_type": "code",
   "execution_count": 20,
   "metadata": {
    "collapsed": true
   },
   "outputs": [],
   "source": [
    "net2 = Net2(2,10,2) \n",
    "#输入为2维点，隐藏层有10个神经元，二分类问题用one-hot表示，所以输出为2维"
   ]
  },
  {
   "cell_type": "code",
   "execution_count": 21,
   "metadata": {
    "collapsed": true
   },
   "outputs": [],
   "source": [
    "#lr学习效率\n",
    "optimizer = torch.optim.SGD(net2.parameters(), lr=0.02)\n",
    "loss_func = torch.nn.CrossEntropyLoss()"
   ]
  },
  {
   "cell_type": "code",
   "execution_count": 22,
   "metadata": {},
   "outputs": [
    {
     "name": "stdout",
     "output_type": "stream",
     "text": [
      "Variable containing:\n",
      " 0.6698\n",
      "[torch.FloatTensor of size 1]\n",
      "\n",
      "Variable containing:\n",
      " 0.5035\n",
      "[torch.FloatTensor of size 1]\n",
      "\n",
      "Variable containing:\n",
      " 0.4170\n",
      "[torch.FloatTensor of size 1]\n",
      "\n",
      "Variable containing:\n",
      " 0.3808\n",
      "[torch.FloatTensor of size 1]\n",
      "\n"
     ]
    },
    {
     "name": "stderr",
     "output_type": "stream",
     "text": [
      "/anaconda3/lib/python3.6/site-packages/ipykernel_launcher.py:13: UserWarning: Implicit dimension choice for softmax has been deprecated. Change the call to include dim=X as an argument.\n",
      "  del sys.path[0]\n"
     ]
    }
   ],
   "source": [
    "for t in range(200): #训练步数\n",
    "    prediction = net2(x)\n",
    "    \n",
    "    loss = loss_func(prediction,y)\n",
    "    if(t%50 == 0):\n",
    "        print(loss)\n",
    "    optimizer.zero_grad() #之前的梯度清零\n",
    "    loss.backward()       #反向传播求梯度\n",
    "    optimizer.step()      #梯度下降走一步"
   ]
  },
  {
   "cell_type": "code",
   "execution_count": 23,
   "metadata": {},
   "outputs": [
    {
     "name": "stdout",
     "output_type": "stream",
     "text": [
      "Variable containing:\n",
      " 0.7312  0.2688\n",
      " 0.8950  0.1050\n",
      " 0.8041  0.1959\n",
      " 0.9768  0.0232\n",
      " 0.9056  0.0944\n",
      " 0.9430  0.0570\n",
      " 0.9523  0.0477\n",
      " 0.9748  0.0252\n",
      " 0.9689  0.0311\n",
      " 0.9801  0.0199\n",
      " 0.9339  0.0661\n",
      " 0.9769  0.0231\n",
      " 0.9751  0.0249\n",
      " 0.9034  0.0966\n",
      " 0.9133  0.0867\n",
      " 0.9765  0.0235\n",
      " 0.9572  0.0428\n",
      " 0.9872  0.0128\n",
      " 0.9160  0.0840\n",
      " 0.9381  0.0619\n",
      " 0.9241  0.0759\n",
      " 0.9740  0.0260\n",
      " 0.9350  0.0650\n",
      " 0.9282  0.0718\n",
      " 0.9864  0.0136\n",
      " 0.9641  0.0359\n",
      " 0.9927  0.0073\n",
      " 0.9692  0.0308\n",
      " 0.7720  0.2280\n",
      " 0.9049  0.0951\n",
      " 0.8148  0.1852\n",
      " 0.9777  0.0223\n",
      " 0.9597  0.0403\n",
      " 0.9624  0.0376\n",
      " 0.8973  0.1027\n",
      " 0.8648  0.1352\n",
      " 0.9838  0.0162\n",
      " 0.9381  0.0619\n",
      " 0.7972  0.2028\n",
      " 0.9889  0.0111\n",
      " 0.9357  0.0643\n",
      " 0.8950  0.1050\n",
      " 0.8526  0.1474\n",
      " 0.9836  0.0164\n",
      " 0.8821  0.1179\n",
      " 0.9741  0.0259\n",
      " 0.9089  0.0911\n",
      " 0.9811  0.0189\n",
      " 0.8492  0.1508\n",
      " 0.9799  0.0201\n",
      " 0.9887  0.0113\n",
      " 0.8411  0.1589\n",
      " 0.6513  0.3487\n",
      " 0.9647  0.0353\n",
      " 0.8857  0.1143\n",
      " 0.7863  0.2137\n",
      " 0.9514  0.0486\n",
      " 0.9002  0.0998\n",
      " 0.9104  0.0896\n",
      " 0.9253  0.0747\n",
      " 0.8698  0.1302\n",
      " 0.8735  0.1265\n",
      " 0.9519  0.0481\n",
      " 0.9287  0.0713\n",
      " 0.9776  0.0224\n",
      " 0.9804  0.0196\n",
      " 0.9802  0.0198\n",
      " 0.9596  0.0404\n",
      " 0.9029  0.0971\n",
      " 0.9036  0.0964\n",
      " 0.9549  0.0451\n",
      " 0.9382  0.0618\n",
      " 0.9801  0.0199\n",
      " 0.9756  0.0244\n",
      " 0.9190  0.0810\n",
      " 0.9760  0.0240\n",
      " 0.9767  0.0233\n",
      " 0.9535  0.0465\n",
      " 0.9256  0.0744\n",
      " 0.8996  0.1004\n",
      " 0.9836  0.0164\n",
      " 0.9707  0.0293\n",
      " 0.9752  0.0248\n",
      " 0.7047  0.2953\n",
      " 0.9895  0.0105\n",
      " 0.8767  0.1233\n",
      " 0.9819  0.0181\n",
      " 0.9353  0.0647\n",
      " 0.8838  0.1162\n",
      " 0.8897  0.1103\n",
      " 0.9581  0.0419\n",
      " 0.9473  0.0527\n",
      " 0.7753  0.2247\n",
      " 0.8126  0.1874\n",
      " 0.7586  0.2414\n",
      " 0.9875  0.0125\n",
      " 0.9611  0.0389\n",
      " 0.9304  0.0696\n",
      " 0.9320  0.0680\n",
      " 0.9525  0.0475\n",
      " 0.0321  0.9679\n",
      " 0.0779  0.9221\n",
      " 0.0211  0.9789\n",
      " 0.0556  0.9444\n",
      " 0.1402  0.8598\n",
      " 0.1861  0.8139\n",
      " 0.4880  0.5120\n",
      " 0.0106  0.9894\n",
      " 0.0228  0.9772\n",
      " 0.0267  0.9733\n",
      " 0.0624  0.9376\n",
      " 0.1653  0.8347\n",
      " 0.0711  0.9289\n",
      " 0.0124  0.9876\n",
      " 0.0226  0.9774\n",
      " 0.0864  0.9136\n",
      " 0.0157  0.9843\n",
      " 0.1038  0.8962\n",
      " 0.0196  0.9804\n",
      " 0.0325  0.9675\n",
      " 0.1670  0.8330\n",
      " 0.0594  0.9406\n",
      " 0.0328  0.9672\n",
      " 0.1082  0.8918\n",
      " 0.0173  0.9827\n",
      " 0.1729  0.8271\n",
      " 0.0268  0.9732\n",
      " 0.1556  0.8444\n",
      " 0.1110  0.8890\n",
      " 0.1418  0.8582\n",
      " 0.0494  0.9506\n",
      " 0.1979  0.8021\n",
      " 0.0429  0.9571\n",
      " 0.0444  0.9556\n",
      " 0.0198  0.9802\n",
      " 0.0168  0.9832\n",
      " 0.0912  0.9088\n",
      " 0.0494  0.9506\n",
      " 0.0221  0.9779\n",
      " 0.0621  0.9379\n",
      " 0.3185  0.6815\n",
      " 0.0483  0.9517\n",
      " 0.0415  0.9585\n",
      " 0.0614  0.9386\n",
      " 0.0657  0.9343\n",
      " 0.0120  0.9880\n",
      " 0.1559  0.8441\n",
      " 0.0801  0.9199\n",
      " 0.0324  0.9676\n",
      " 0.0248  0.9752\n",
      " 0.0160  0.9840\n",
      " 0.0489  0.9511\n",
      " 0.0261  0.9739\n",
      " 0.0873  0.9127\n",
      " 0.0247  0.9753\n",
      " 0.0730  0.9270\n",
      " 0.0701  0.9299\n",
      " 0.6922  0.3078\n",
      " 0.0104  0.9896\n",
      " 0.0758  0.9242\n",
      " 0.0267  0.9733\n",
      " 0.0663  0.9337\n",
      " 0.0371  0.9629\n",
      " 0.0957  0.9043\n",
      " 0.0394  0.9606\n",
      " 0.0762  0.9238\n",
      " 0.1577  0.8423\n",
      " 0.0672  0.9328\n",
      " 0.0109  0.9891\n",
      " 0.0761  0.9239\n",
      " 0.0893  0.9107\n",
      " 0.1310  0.8690\n",
      " 0.1105  0.8895\n",
      " 0.0392  0.9608\n",
      " 0.0363  0.9637\n",
      " 0.0207  0.9793\n",
      " 0.0920  0.9080\n",
      " 0.0524  0.9476\n",
      " 0.1504  0.8496\n",
      " 0.0204  0.9796\n",
      " 0.1111  0.8889\n",
      " 0.0594  0.9406\n",
      " 0.0100  0.9900\n",
      " 0.0270  0.9730\n",
      " 0.2435  0.7565\n",
      " 0.0330  0.9670\n",
      " 0.1095  0.8905\n",
      " 0.0670  0.9330\n",
      " 0.1752  0.8248\n",
      " 0.3736  0.6264\n",
      " 0.3460  0.6540\n",
      " 0.0292  0.9708\n",
      " 0.0217  0.9783\n",
      " 0.0493  0.9507\n",
      " 0.0195  0.9805\n",
      " 0.0321  0.9679\n",
      " 0.0774  0.9226\n",
      " 0.0582  0.9418\n",
      " 0.0254  0.9746\n",
      " 0.0714  0.9286\n",
      "[torch.FloatTensor of size 200x2]\n",
      "\n"
     ]
    }
   ],
   "source": [
    "print(prediction)"
   ]
  },
  {
   "cell_type": "code",
   "execution_count": 24,
   "metadata": {},
   "outputs": [
    {
     "name": "stderr",
     "output_type": "stream",
     "text": [
      "/anaconda3/lib/python3.6/site-packages/torch/serialization.py:159: UserWarning: Couldn't retrieve source code for container of type Net2. It won't be checked for correctness upon loading.\n",
      "  \"type \" + obj.__name__ + \". It won't be checked \"\n"
     ]
    }
   ],
   "source": [
    "torch.save(net2,'net2.pkl')"
   ]
  },
  {
   "cell_type": "markdown",
   "metadata": {},
   "source": [
    "保存"
   ]
  },
  {
   "cell_type": "code",
   "execution_count": 25,
   "metadata": {
    "collapsed": true
   },
   "outputs": [],
   "source": [
    "torch.save(net2.state_dict(),'net2_param.pkl')"
   ]
  },
  {
   "cell_type": "code",
   "execution_count": 26,
   "metadata": {
    "collapsed": true
   },
   "outputs": [],
   "source": [
    "net2 = torch.load('net2.pkl')"
   ]
  },
  {
   "cell_type": "code",
   "execution_count": 27,
   "metadata": {},
   "outputs": [
    {
     "name": "stdout",
     "output_type": "stream",
     "text": [
      "Variable containing:\n",
      " 0.7320  0.2680\n",
      " 0.8957  0.1043\n",
      " 0.8050  0.1950\n",
      " 0.9770  0.0230\n",
      " 0.9062  0.0938\n",
      " 0.9435  0.0565\n",
      " 0.9527  0.0473\n",
      " 0.9751  0.0249\n",
      " 0.9692  0.0308\n",
      " 0.9804  0.0196\n",
      " 0.9345  0.0655\n",
      " 0.9771  0.0229\n",
      " 0.9754  0.0246\n",
      " 0.9040  0.0960\n",
      " 0.9139  0.0861\n",
      " 0.9768  0.0232\n",
      " 0.9576  0.0424\n",
      " 0.9874  0.0126\n",
      " 0.9166  0.0834\n",
      " 0.9386  0.0614\n",
      " 0.9245  0.0755\n",
      " 0.9742  0.0258\n",
      " 0.9355  0.0645\n",
      " 0.9287  0.0713\n",
      " 0.9866  0.0134\n",
      " 0.9645  0.0355\n",
      " 0.9929  0.0071\n",
      " 0.9695  0.0305\n",
      " 0.7728  0.2272\n",
      " 0.9056  0.0944\n",
      " 0.8157  0.1843\n",
      " 0.9779  0.0221\n",
      " 0.9601  0.0399\n",
      " 0.9628  0.0372\n",
      " 0.8979  0.1021\n",
      " 0.8656  0.1344\n",
      " 0.9840  0.0160\n",
      " 0.9386  0.0614\n",
      " 0.7980  0.2020\n",
      " 0.9891  0.0109\n",
      " 0.9361  0.0639\n",
      " 0.8957  0.1043\n",
      " 0.8534  0.1466\n",
      " 0.9838  0.0162\n",
      " 0.8828  0.1172\n",
      " 0.9743  0.0257\n",
      " 0.9095  0.0905\n",
      " 0.9813  0.0187\n",
      " 0.8500  0.1500\n",
      " 0.9801  0.0199\n",
      " 0.9888  0.0112\n",
      " 0.8419  0.1581\n",
      " 0.6520  0.3480\n",
      " 0.9651  0.0349\n",
      " 0.8864  0.1136\n",
      " 0.7871  0.2129\n",
      " 0.9518  0.0482\n",
      " 0.9008  0.0992\n",
      " 0.9110  0.0890\n",
      " 0.9258  0.0742\n",
      " 0.8705  0.1295\n",
      " 0.8743  0.1257\n",
      " 0.9523  0.0477\n",
      " 0.9292  0.0708\n",
      " 0.9778  0.0222\n",
      " 0.9806  0.0194\n",
      " 0.9805  0.0195\n",
      " 0.9600  0.0400\n",
      " 0.9035  0.0965\n",
      " 0.9043  0.0957\n",
      " 0.9553  0.0447\n",
      " 0.9387  0.0613\n",
      " 0.9804  0.0196\n",
      " 0.9758  0.0242\n",
      " 0.9196  0.0804\n",
      " 0.9763  0.0237\n",
      " 0.9770  0.0230\n",
      " 0.9539  0.0461\n",
      " 0.9261  0.0739\n",
      " 0.9003  0.0997\n",
      " 0.9838  0.0162\n",
      " 0.9710  0.0290\n",
      " 0.9755  0.0245\n",
      " 0.7055  0.2945\n",
      " 0.9897  0.0103\n",
      " 0.8774  0.1226\n",
      " 0.9821  0.0179\n",
      " 0.9359  0.0641\n",
      " 0.8844  0.1156\n",
      " 0.8904  0.1096\n",
      " 0.9585  0.0415\n",
      " 0.9478  0.0522\n",
      " 0.7761  0.2239\n",
      " 0.8133  0.1867\n",
      " 0.7595  0.2405\n",
      " 0.9877  0.0123\n",
      " 0.9615  0.0385\n",
      " 0.9309  0.0691\n",
      " 0.9325  0.0675\n",
      " 0.9529  0.0471\n",
      " 0.0318  0.9682\n",
      " 0.0774  0.9226\n",
      " 0.0209  0.9791\n",
      " 0.0552  0.9448\n",
      " 0.1395  0.8605\n",
      " 0.1856  0.8144\n",
      " 0.4880  0.5120\n",
      " 0.0105  0.9895\n",
      " 0.0226  0.9774\n",
      " 0.0264  0.9736\n",
      " 0.0620  0.9380\n",
      " 0.1648  0.8352\n",
      " 0.0707  0.9293\n",
      " 0.0123  0.9877\n",
      " 0.0224  0.9776\n",
      " 0.0859  0.9141\n",
      " 0.0155  0.9845\n",
      " 0.1033  0.8967\n",
      " 0.0194  0.9806\n",
      " 0.0322  0.9678\n",
      " 0.1665  0.8335\n",
      " 0.0590  0.9410\n",
      " 0.0325  0.9675\n",
      " 0.1076  0.8924\n",
      " 0.0172  0.9828\n",
      " 0.1721  0.8279\n",
      " 0.0265  0.9735\n",
      " 0.1546  0.8454\n",
      " 0.1105  0.8895\n",
      " 0.1413  0.8587\n",
      " 0.0490  0.9510\n",
      " 0.1971  0.8029\n",
      " 0.0425  0.9575\n",
      " 0.0441  0.9559\n",
      " 0.0196  0.9804\n",
      " 0.0166  0.9834\n",
      " 0.0908  0.9092\n",
      " 0.0490  0.9510\n",
      " 0.0218  0.9782\n",
      " 0.0617  0.9383\n",
      " 0.3181  0.6819\n",
      " 0.0479  0.9521\n",
      " 0.0411  0.9589\n",
      " 0.0610  0.9390\n",
      " 0.0653  0.9347\n",
      " 0.0118  0.9882\n",
      " 0.1554  0.8446\n",
      " 0.0796  0.9204\n",
      " 0.0321  0.9679\n",
      " 0.0246  0.9754\n",
      " 0.0158  0.9842\n",
      " 0.0485  0.9515\n",
      " 0.0259  0.9741\n",
      " 0.0868  0.9132\n",
      " 0.0244  0.9756\n",
      " 0.0726  0.9274\n",
      " 0.0697  0.9303\n",
      " 0.6928  0.3072\n",
      " 0.0103  0.9897\n",
      " 0.0754  0.9246\n",
      " 0.0264  0.9736\n",
      " 0.0659  0.9341\n",
      " 0.0368  0.9632\n",
      " 0.0952  0.9048\n",
      " 0.0391  0.9609\n",
      " 0.0757  0.9243\n",
      " 0.1568  0.8432\n",
      " 0.0668  0.9332\n",
      " 0.0107  0.9893\n",
      " 0.0756  0.9244\n",
      " 0.0888  0.9112\n",
      " 0.1305  0.8695\n",
      " 0.1098  0.8902\n",
      " 0.0389  0.9611\n",
      " 0.0359  0.9641\n",
      " 0.0205  0.9795\n",
      " 0.0915  0.9085\n",
      " 0.0520  0.9480\n",
      " 0.1498  0.8502\n",
      " 0.0202  0.9798\n",
      " 0.1106  0.8894\n",
      " 0.0590  0.9410\n",
      " 0.0098  0.9902\n",
      " 0.0267  0.9733\n",
      " 0.2430  0.7570\n",
      " 0.0327  0.9673\n",
      " 0.1090  0.8910\n",
      " 0.0666  0.9334\n",
      " 0.1745  0.8255\n",
      " 0.3730  0.6270\n",
      " 0.3454  0.6546\n",
      " 0.0290  0.9710\n",
      " 0.0214  0.9786\n",
      " 0.0490  0.9510\n",
      " 0.0193  0.9807\n",
      " 0.0318  0.9682\n",
      " 0.0769  0.9231\n",
      " 0.0578  0.9422\n",
      " 0.0252  0.9748\n",
      " 0.0709  0.9291\n",
      "[torch.FloatTensor of size 200x2]\n",
      "\n"
     ]
    },
    {
     "name": "stderr",
     "output_type": "stream",
     "text": [
      "/anaconda3/lib/python3.6/site-packages/ipykernel_launcher.py:13: UserWarning: Implicit dimension choice for softmax has been deprecated. Change the call to include dim=X as an argument.\n",
      "  del sys.path[0]\n"
     ]
    }
   ],
   "source": [
    "predict = net2(x)\n",
    "print(predict)"
   ]
  },
  {
   "cell_type": "code",
   "execution_count": 28,
   "metadata": {
    "collapsed": true
   },
   "outputs": [],
   "source": [
    "net2 = Net2(2,10,2)\n",
    "net2.load_state_dict(torch.load('net2_param.pkl'))"
   ]
  },
  {
   "cell_type": "code",
   "execution_count": 29,
   "metadata": {},
   "outputs": [
    {
     "name": "stdout",
     "output_type": "stream",
     "text": [
      "Variable containing:\n",
      " 1.0000e+00\n",
      " 1.9140e-06\n",
      "[torch.FloatTensor of size 2]\n",
      "\n"
     ]
    },
    {
     "name": "stderr",
     "output_type": "stream",
     "text": [
      "/anaconda3/lib/python3.6/site-packages/ipykernel_launcher.py:13: UserWarning: Implicit dimension choice for softmax has been deprecated. Change the call to include dim=X as an argument.\n",
      "  del sys.path[0]\n"
     ]
    }
   ],
   "source": [
    "predict = net2(Variable(torch.FloatTensor([10,10])))\n",
    "print(predict)"
   ]
  },
  {
   "cell_type": "markdown",
   "metadata": {},
   "source": [
    "批数据训练"
   ]
  },
  {
   "cell_type": "code",
   "execution_count": 30,
   "metadata": {},
   "outputs": [
    {
     "name": "stdout",
     "output_type": "stream",
     "text": [
      "epoch 0 :\n",
      "[ 3.  6.  2.  9.  4.] | [ 8.  5.  9.  2.  7.]\n",
      "[  1.   7.  10.   8.   5.] | [ 10.   4.   1.   3.   6.]\n",
      "epoch 1 :\n",
      "[ 10.   7.   1.   3.   2.] | [  1.   4.  10.   8.   9.]\n",
      "[ 5.  9.  8.  4.  6.] | [ 6.  2.  3.  7.  5.]\n",
      "epoch 2 :\n",
      "[  6.  10.   1.   4.   2.] | [  5.   1.  10.   7.   9.]\n",
      "[ 8.  5.  3.  7.  9.] | [ 3.  6.  8.  4.  2.]\n"
     ]
    }
   ],
   "source": [
    "import torch.utils.data as Data\n",
    "BATCH_SIZE = 5\n",
    "x = torch.linspace(1,10,10)\n",
    "y = torch.linspace(10,1,10)\n",
    "\n",
    "torch_dataset = Data.TensorDataset(data_tensor=x,target_tensor=y)\n",
    "loader = Data.DataLoader(\n",
    "    dataset=torch_dataset,\n",
    "    batch_size=BATCH_SIZE,\n",
    "    shuffle=True, #是否随机\n",
    "    num_workers=2,\n",
    ")\n",
    "\n",
    "for epoch in range(3):\n",
    "    print('epoch',epoch,':')\n",
    "    for step, (batch_x,batch_y) in enumerate(loader):\n",
    "        print(batch_x.numpy(),'|',batch_y.numpy())"
   ]
  },
  {
   "cell_type": "markdown",
   "metadata": {
    "collapsed": true
   },
   "source": [
    "优化器<br>\n",
    "SGD<br>\n",
    "momentum(也是用SGD，不过加了momentum这个参数，视频中是设为0.8)<br>\n",
    "RMSprop<br>\n",
    "Adam<br>"
   ]
  },
  {
   "cell_type": "markdown",
   "metadata": {},
   "source": [
    "### CNN"
   ]
  },
  {
   "cell_type": "code",
   "execution_count": 81,
   "metadata": {
    "collapsed": true
   },
   "outputs": [],
   "source": [
    "import torchvision #包含一些数据库\n",
    "import torch.nn as nn"
   ]
  },
  {
   "cell_type": "code",
   "execution_count": 82,
   "metadata": {
    "collapsed": true
   },
   "outputs": [],
   "source": [
    "#超参数\n",
    "EPOCH = 1\n",
    "BATCH_SIZE = 50\n",
    "LR = 0.001\n",
    "DOWNLOAD_MNIST = True"
   ]
  },
  {
   "cell_type": "code",
   "execution_count": 43,
   "metadata": {},
   "outputs": [
    {
     "name": "stdout",
     "output_type": "stream",
     "text": [
      "Downloading http://yann.lecun.com/exdb/mnist/train-images-idx3-ubyte.gz\n",
      "Downloading http://yann.lecun.com/exdb/mnist/train-labels-idx1-ubyte.gz\n",
      "Downloading http://yann.lecun.com/exdb/mnist/t10k-images-idx3-ubyte.gz\n",
      "Downloading http://yann.lecun.com/exdb/mnist/t10k-labels-idx1-ubyte.gz\n",
      "Processing...\n",
      "Done!\n"
     ]
    }
   ],
   "source": [
    "train_data = torchvision.datasets.MNIST(\n",
    "    root='./mnist',\n",
    "    train=True,\n",
    "    #改成tensor格式，和压缩到（0，1）\n",
    "    transform=torchvision.transforms.ToTensor(), \n",
    "    download=DOWNLOAD_MNIST\n",
    ")"
   ]
  },
  {
   "cell_type": "code",
   "execution_count": 83,
   "metadata": {},
   "outputs": [
    {
     "name": "stdout",
     "output_type": "stream",
     "text": [
      "torch.Size([60000, 28, 28])\n",
      "torch.Size([60000])\n"
     ]
    },
    {
     "data": {
      "image/png": "[encoded data removed]",
      "text/plain": [
       "<matplotlib.figure.Figure at 0x11e6bbd68>"
      ]
     },
     "metadata": {},
     "output_type": "display_data"
    }
   ],
   "source": [
    "print(train_data.train_data.size())\n",
    "print(train_data.train_labels.size())\n",
    "plt.imshow(train_data.train_data[0].numpy(),cmap='gray')\n",
    "plt.show()"
   ]
  },
  {
   "cell_type": "code",
   "execution_count": 90,
   "metadata": {
    "collapsed": true
   },
   "outputs": [],
   "source": [
    "train_loader = Data.DataLoader(\n",
    "    dataset=train_data,\n",
    "    batch_size=BATCH_SIZE,\n",
    "    shuffle=True, #是否随机\n",
    "    num_workers=2,\n",
    ")"
   ]
  },
  {
   "cell_type": "code",
   "execution_count": 91,
   "metadata": {
    "collapsed": true
   },
   "outputs": [],
   "source": [
    "test_data = torchvision.datasets.MNIST(root='./mnist',train=False)"
   ]
  },
  {
   "cell_type": "code",
   "execution_count": 92,
   "metadata": {
    "collapsed": true
   },
   "outputs": [],
   "source": [
    "test_x = Variable(torch.unsqueeze(test_data.test_data,dim=1),\n",
    "                  volatile=True).type(torch.FloatTensor)[:2000]/255\n",
    "test_y = test_data.test_labels[:2000]"
   ]
  },
  {
   "cell_type": "code",
   "execution_count": 63,
   "metadata": {},
   "outputs": [
    {
     "name": "stdout",
     "output_type": "stream",
     "text": [
      "torch.Size([2000, 1, 28, 28])\n"
     ]
    }
   ],
   "source": [
    "print(test_x.size()) \n",
    "#unsqueeze加了BATCH_SIZE的维度,dim=1说明在第1维中插入"
   ]
  },
  {
   "cell_type": "code",
   "execution_count": 69,
   "metadata": {},
   "outputs": [
    {
     "name": "stdout",
     "output_type": "stream",
     "text": [
      "torch.Size([10000, 28, 28])\n"
     ]
    }
   ],
   "source": [
    "print(test_data.test_data.size())"
   ]
  },
  {
   "cell_type": "code",
   "execution_count": 87,
   "metadata": {},
   "outputs": [
    {
     "name": "stdout",
     "output_type": "stream",
     "text": [
      "torch.Size([10000])\n"
     ]
    }
   ],
   "source": [
    "print(test_data.test_labels.size())"
   ]
  },
  {
   "cell_type": "code",
   "execution_count": 95,
   "metadata": {
    "collapsed": true
   },
   "outputs": [],
   "source": [
    "class CNN(nn.Module):\n",
    "    def __init__(self):\n",
    "        super(CNN,self).__init__()\n",
    "        self.conv1 = nn.Sequential(\n",
    "            nn.Conv2d( #(1，28，28)\n",
    "                in_channels=1,#输入图片的高度，彩色图片为3，黑白图片为1\n",
    "                out_channels=16, #输出高度，可以看成有16个filters叠在一起扫描\n",
    "                kernel_size=5, #过滤器维度\n",
    "                stride=1, #步长\n",
    "                padding=2 # if stride=1,padding=(kernel_size-1)/2\n",
    "            ), #->(16,28,28)\n",
    "            nn.ReLU(),#->(16,28,28)\n",
    "            nn.MaxPool2d(kernel_size=2), #可以想象成另一个filter\n",
    "            #->(16,14,14)\n",
    "        )\n",
    "        self.conv2 = nn.Sequential(\n",
    "            nn.Conv2d(16,32,5,1,2), #->(32,14,14)\n",
    "            nn.ReLU(), # ->(32,14,14)\n",
    "            nn.MaxPool2d(2) #->(32,7,7)\n",
    "        )\n",
    "        self.out = nn.Linear(32*7*7,10) #输入要展平，输出因为有10类（10个数字）\n",
    "        \n",
    "    def forward(self,x):\n",
    "        x = self.conv1(x)\n",
    "        x = self.conv2(x) #(batch,32,7,7)\n",
    "        x = x.view(x.size(0),-1) #(batch,32*7*7)\n",
    "        output = self.out(x)\n",
    "        return output"
   ]
  },
  {
   "cell_type": "code",
   "execution_count": 117,
   "metadata": {},
   "outputs": [
    {
     "name": "stdout",
     "output_type": "stream",
     "text": [
      "train loss: 2.3019678592681885 | accuracy: 0.1305\n",
      "train loss: 0.4599365293979645 | accuracy: 0.8205\n",
      "train loss: 0.13245519995689392 | accuracy: 0.901\n",
      "train loss: 0.5097387433052063 | accuracy: 0.9125\n",
      "train loss: 0.1347232311964035 | accuracy: 0.936\n",
      "train loss: 0.1962229311466217 | accuracy: 0.947\n",
      "train loss: 0.09001033008098602 | accuracy: 0.9415\n",
      "train loss: 0.055662188678979874 | accuracy: 0.9565\n",
      "train loss: 0.22798699140548706 | accuracy: 0.952\n",
      "train loss: 0.128178209066391 | accuracy: 0.9635\n",
      "train loss: 0.18648329377174377 | accuracy: 0.9565\n",
      "train loss: 0.06422994285821915 | accuracy: 0.9635\n",
      "train loss: 0.1151735708117485 | accuracy: 0.9615\n",
      "train loss: 0.14468316733837128 | accuracy: 0.9635\n",
      "train loss: 0.03337810933589935 | accuracy: 0.968\n",
      "train loss: 0.057695526629686356 | accuracy: 0.975\n",
      "train loss: 0.05144820734858513 | accuracy: 0.9795\n",
      "train loss: 0.16215918958187103 | accuracy: 0.971\n",
      "train loss: 0.02815297059714794 | accuracy: 0.98\n",
      "train loss: 0.006536298897117376 | accuracy: 0.971\n",
      "train loss: 0.04456564784049988 | accuracy: 0.974\n",
      "train loss: 0.017808975651860237 | accuracy: 0.979\n",
      "train loss: 0.0966399684548378 | accuracy: 0.9725\n",
      "train loss: 0.047715045511722565 | accuracy: 0.9785\n"
     ]
    }
   ],
   "source": [
    "cnn = CNN()\n",
    "optimizer = torch.optim.Adam(cnn.parameters(),lr=LR)\n",
    "loss_func = nn.CrossEntropyLoss()\n",
    "for epoch in range(EPOCH):\n",
    "    for step,(x,y) in enumerate(train_loader):\n",
    "        b_x = Variable(x)\n",
    "        b_y = Variable(y)\n",
    "        output = cnn(b_x)\n",
    "        loss = loss_func(output,b_y)\n",
    "        optimizer.zero_grad()\n",
    "        loss.backward()\n",
    "        optimizer.step()\n",
    "        \n",
    "        if step%50 == 0:\n",
    "            test_output = cnn(test_x)\n",
    "            pred_y = torch.max(test_output,1)[1].data.squeeze()\n",
    "            accuracy = sum(pred_y == test_y) / test_y.size(0)\n",
    "            print(\"train loss:\",loss.data[0],'|','accuracy:',accuracy)"
   ]
  },
  {
   "cell_type": "code",
   "execution_count": 128,
   "metadata": {},
   "outputs": [
    {
     "name": "stdout",
     "output_type": "stream",
     "text": [
      "[7 2 1 0 4 1 4 9 5 9] prediction number\n",
      "[7 2 1 0 4 1 4 9 5 9] real number\n"
     ]
    }
   ],
   "source": [
    "test_output = cnn(test_x[:10])\n",
    "pred_y = torch.max(test_output,1)[1].data.numpy()\n",
    "print(pred_y,'prediction number')\n",
    "print(test_y[:10].numpy(),'real number')"
   ]
  },
  {
   "cell_type": "markdown",
   "metadata": {},
   "source": [
    "下面是为什么使用(un)squeeze的理由"
   ]
  },
  {
   "cell_type": "code",
   "execution_count": 126,
   "metadata": {},
   "outputs": [
    {
     "name": "stdout",
     "output_type": "stream",
     "text": [
      "torch.Size([50, 1, 28, 28])\n",
      "torch.Size([50, 28, 28])\n",
      "torch.Size([50, 1, 28, 28])\n",
      "torch.Size([50, 28, 28])\n",
      "torch.Size([50, 1, 28, 28])\n",
      "torch.Size([50, 28, 28])\n",
      "torch.Size([50, 1, 28, 28])\n",
      "torch.Size([50, 28, 28])\n",
      "torch.Size([50, 1, 28, 28])\n",
      "torch.Size([50, 28, 28])\n",
      "torch.Size([50, 1, 28, 28])\n",
      "torch.Size([50, 28, 28])\n"
     ]
    }
   ],
   "source": [
    "for step,(x,y) in enumerate(train_loader):\n",
    "    print(x.size())\n",
    "    print(x.squeeze().size())\n",
    "    if step == 5:\n",
    "        break"
   ]
  },
  {
   "cell_type": "code",
   "execution_count": 133,
   "metadata": {},
   "outputs": [
    {
     "data": {
      "text/plain": [
       "10.0"
      ]
     },
     "execution_count": 133,
     "metadata": {},
     "output_type": "execute_result"
    }
   ],
   "source": [
    "torch.max(torch.Tensor([[1,2,3,4,5],[6,7,8,9,10]]))"
   ]
  },
  {
   "cell_type": "code",
   "execution_count": 138,
   "metadata": {},
   "outputs": [
    {
     "data": {
      "text/plain": [
       "(\n",
       "   5\n",
       "  10\n",
       " [torch.FloatTensor of size 2], \n",
       "  4\n",
       "  4\n",
       " [torch.LongTensor of size 2])"
      ]
     },
     "execution_count": 138,
     "metadata": {},
     "output_type": "execute_result"
    }
   ],
   "source": [
    "torch.max(torch.Tensor([[1,2,3,4,5],[6,7,8,9,10]]),1)"
   ]
  },
  {
   "cell_type": "markdown",
   "metadata": {},
   "source": [
    "torch.squeeze\n",
    "\n",
    "torch.squeeze(input, dim=None, out=None)\n",
    "将输入张量形状中的1 去除并返回。 如果输入是形如(A×1×B×1×C×1×D)，那么输出形状就为： (A×B×C×D)\n",
    "当给定dim时，那么挤压操作只在给定维度上。例如，输入形状为: (A×1×B), squeeze(input, 0) 将会保持张量不变，只有用 squeeze(input, 1)，形状会变成 (A×B)。\n",
    "\n",
    "注意： 返回张量与输入张量共享内存，所以改变其中一个的内容会改变另一个。\n",
    "\n",
    "参数:\n",
    "\n",
    "input (Tensor) – 输入张量\n",
    "dim (int, optional) – 如果给定，则input只会在给定维度挤压\n",
    "out (Tensor, optional) – 输出张量"
   ]
  },
  {
   "cell_type": "markdown",
   "metadata": {},
   "source": [
    "torch.unsqueeze\n",
    "\n",
    "torch.unsqueeze(input, dim, out=None)\n",
    "返回一个新的张量，对输入的制定位置插入维度 1\n",
    "\n",
    "注意： 返回张量与输入张量共享内存，所以改变其中一个的内容会改变另一个。\n",
    "\n",
    "如果dim为负，则将会被转化dim+input.dim()+1\n",
    "参数:\n",
    "\n",
    "tensor (Tensor) – 输入张量\n",
    "dim (int) – 插入维度的索引\n",
    "out (Tensor, optional) – 结果张量"
   ]
  },
  {
   "cell_type": "markdown",
   "metadata": {},
   "source": [
    "### RNN"
   ]
  },
  {
   "cell_type": "code",
   "execution_count": 146,
   "metadata": {
    "collapsed": true
   },
   "outputs": [],
   "source": [
    "EPOCH = 1\n",
    "BATCH_SIZE = 64\n",
    "TIME_STEP = 28 #rnn time step/image height\n",
    "INPUT_SIZE = 28 #rnn input size/image width\n",
    "LR = 0.01\n",
    "DOWNLOAD_MNIST = False\n",
    "train_data = torchvision.datasets.MNIST(\n",
    "    root='./mnist',\n",
    "    train=True,\n",
    "    transform=torchvision.transforms.ToTensor(),\n",
    "    download=DOWNLOAD_MNIST\n",
    ")\n"
   ]
  },
  {
   "cell_type": "code",
   "execution_count": 172,
   "metadata": {
    "collapsed": true
   },
   "outputs": [],
   "source": [
    "train_loader = Data.DataLoader(\n",
    "    dataset=train_data,\n",
    "    batch_size=BATCH_SIZE,\n",
    "    shuffle=True, #是否随机\n",
    "    num_workers=2,\n",
    ")\n",
    "test_data = torchvision.datasets.MNIST(root='./mnist',\n",
    "                                       train=False,\n",
    "                                      transform=torchvision.transforms.ToTensor())\n",
    "test_x = Variable(test_data.test_data,\n",
    "                  volatile=True).type(torch.FloatTensor)[:2000]/255\n",
    "test_y = test_data.test_labels.numpy().squeeze()[:2000]"
   ]
  },
  {
   "cell_type": "code",
   "execution_count": 173,
   "metadata": {
    "collapsed": true
   },
   "outputs": [],
   "source": [
    "class RNN(nn.Module):\n",
    "    def __init__(self):\n",
    "        super(RNN,self).__init__()\n",
    "        \n",
    "        self.rnn = nn.LSTM(\n",
    "            input_size=INPUT_SIZE,\n",
    "            hidden_size=64,\n",
    "            num_layers=1,\n",
    "            batch_first=True, #(batch,time_step,input)\n",
    "        )\n",
    "        self.out = nn.Linear(64,10)\n",
    "    \n",
    "    def forward(self,x):\n",
    "        r_out,(h_n,h_c) = self.rnn(x,None) \n",
    "        # x(batch,time_step,input_size)\n",
    "        # None是指没初始的hidden state\n",
    "        out = self.out(r_out[:,-1,:])\n",
    "        return out"
   ]
  },
  {
   "cell_type": "code",
   "execution_count": 186,
   "metadata": {},
   "outputs": [
    {
     "name": "stdout",
     "output_type": "stream",
     "text": [
      "RNN(\n",
      "  (rnn): LSTM(28, 64, batch_first=True)\n",
      "  (out): Linear(in_features=64, out_features=10, bias=True)\n",
      ")\n"
     ]
    }
   ],
   "source": [
    "rnn = RNN()\n",
    "print(rnn)"
   ]
  },
  {
   "cell_type": "code",
   "execution_count": 187,
   "metadata": {},
   "outputs": [
    {
     "name": "stdout",
     "output_type": "stream",
     "text": [
      "train loss: 2.3018622398376465 | accuracy: 0.116\n",
      "train loss: 0.781937301158905 | accuracy: 0.6\n",
      "train loss: 0.9549441337585449 | accuracy: 0.711\n",
      "train loss: 0.7302921414375305 | accuracy: 0.748\n",
      "train loss: 0.5319693088531494 | accuracy: 0.85\n",
      "train loss: 0.26437437534332275 | accuracy: 0.879\n",
      "train loss: 0.2926117777824402 | accuracy: 0.9125\n",
      "train loss: 0.22128325700759888 | accuracy: 0.912\n",
      "train loss: 0.14532454311847687 | accuracy: 0.913\n",
      "train loss: 0.17114056646823883 | accuracy: 0.9255\n",
      "train loss: 0.06482797116041183 | accuracy: 0.9315\n",
      "train loss: 0.30730584263801575 | accuracy: 0.931\n",
      "train loss: 0.1360687017440796 | accuracy: 0.951\n",
      "train loss: 0.18281289935112 | accuracy: 0.9275\n",
      "train loss: 0.26453647017478943 | accuracy: 0.9465\n",
      "train loss: 0.14338654279708862 | accuracy: 0.946\n",
      "train loss: 0.13650457561016083 | accuracy: 0.959\n",
      "train loss: 0.19890643656253815 | accuracy: 0.9525\n",
      "train loss: 0.30525192618370056 | accuracy: 0.957\n"
     ]
    }
   ],
   "source": [
    "optimizer = torch.optim.Adam(rnn.parameters(),lr=LR)\n",
    "loss_func = nn.CrossEntropyLoss()\n",
    "for epoch in range(EPOCH):\n",
    "    for step,(x,y) in enumerate(train_loader):\n",
    "        b_x = Variable(x.squeeze())\n",
    "        b_y = Variable(y)\n",
    "        output = rnn(b_x)\n",
    "        loss = loss_func(output,b_y)\n",
    "        optimizer.zero_grad()\n",
    "        loss.backward()\n",
    "        optimizer.step()\n",
    "        \n",
    "        if step%50 == 0:\n",
    "            test_output = rnn(test_x)\n",
    "            pred_y = torch.max(test_output,1)[1].data.numpy().squeeze()\n",
    "            accuracy = sum(pred_y == test_y) / test_y.size\n",
    "            print(\"train loss:\",loss.data[0],'|','accuracy:',accuracy)"
   ]
  },
  {
   "cell_type": "code",
   "execution_count": 194,
   "metadata": {
    "collapsed": true
   },
   "outputs": [],
   "source": [
    "TIME_STEP =10\n",
    "LR = 0.02\n",
    "class RNN(nn.Module):\n",
    "    def __init__(self):\n",
    "        super(RNN,self).__init__()\n",
    "        self.rnn = nn.RNN(\n",
    "            input_size=1,\n",
    "            hidden_size=32,\n",
    "            num_layers=1,\n",
    "            batch_first=True\n",
    "        )\n",
    "        self.out = nn.Linear(32,1)\n",
    "        \n",
    "    def forward(self,x,h_state):\n",
    "        r_out, h_state = self.rnn(x,h_state) #输入一个序列，h_state是最后一步的hidden state\n",
    "        outs = []\n",
    "        for time_step in range(r_out.size(1)):\n",
    "            outs.append(self.out(r_out[:,time_step,:]))\n",
    "            \n",
    "        return torch.stack(outs,dim=1),h_state"
   ]
  },
  {
   "cell_type": "code",
   "execution_count": 201,
   "metadata": {},
   "outputs": [
    {
     "name": "stdout",
     "output_type": "stream",
     "text": [
      "Variable containing:\n",
      "(0 ,.,.) = \n",
      "  0.0000\n",
      "  0.3420\n",
      "  0.6428\n",
      "  0.8660\n",
      "  0.9848\n",
      "  0.9848\n",
      "  0.8660\n",
      "  0.6428\n",
      "  0.3420\n",
      " -0.0000\n",
      "[torch.FloatTensor of size 1x10x1]\n",
      "\n",
      "Variable containing:\n",
      "(0 ,.,.) = \n",
      " -8.7423e-08\n",
      " -3.4202e-01\n",
      " -6.4279e-01\n",
      " -8.6603e-01\n",
      " -9.8481e-01\n",
      " -9.8481e-01\n",
      " -8.6603e-01\n",
      " -6.4279e-01\n",
      " -3.4202e-01\n",
      "  1.7485e-07\n",
      "[torch.FloatTensor of size 1x10x1]\n",
      "\n"
     ]
    }
   ],
   "source": [
    "rnn = RNN()\n",
    "optimizer = torch.optim.Adam(rnn.parameters(),lr = LR)\n",
    "loss_func = nn.MSELoss()\n",
    "h_state = None\n",
    "for step in range(2):\n",
    "    start,end=step*np.pi,(step+1)*np.pi\n",
    "    steps = np.linspace(start,end,TIME_STEP,dtype=np.float32)\n",
    "    x_np = np.sin(steps)\n",
    "    y_np = np.cos(steps)\n",
    "    \n",
    "    x = Variable(torch.from_numpy(x_np[np.newaxis,:,np.newaxis]))\n",
    "    print(x) #shape(batch,time_step,input_size)\n",
    "    y = Variable(torch.from_numpy(y_np[np.newaxis,:,np.newaxis]))\n",
    "    \n",
    "    prediction, h_state = rnn(x,h_state)\n",
    "    h_state = Variable(h_state.data)\n",
    "    \n",
    "    loss = loss_func(prediction,y)\n",
    "    optimizer.zero_grad()\n",
    "    loss.backward()\n",
    "    optimizer.step()\n",
    "    \n",
    "    #print(loss.data)"
   ]
  },
  {
   "cell_type": "markdown",
   "metadata": {
    "collapsed": true
   },
   "source": [
    "AutoEncoder"
   ]
  },
  {
   "cell_type": "code",
   "execution_count": 2,
   "metadata": {},
   "outputs": [],
   "source": [
    "import torch.nn as nn\n",
    "class AutoEncoder(nn.Module):\n",
    "    def __init__(self):\n",
    "        super(AutoEncoder,self).__init__()\n",
    "        self.encoder = nn.Sequential(\n",
    "            nn.Linear(28*28,128),\n",
    "            nn.Tanh(),\n",
    "            nn.Linear(128,64),\n",
    "            nn.Tanh(),\n",
    "            nn.Linear(64,12),\n",
    "            nn.Tanh(),\n",
    "            nn.Linear(12,3),\n",
    "            nn.Tanh(),\n",
    "        )\n",
    "        self.decoder = nn.Sequential(\n",
    "            nn.Linear(3,12),\n",
    "            nn.Tanh(),\n",
    "            nn.Linear(12,64),\n",
    "            nn.Tanh(),\n",
    "            nn.Linear(64,128),\n",
    "            nn.Tanh(),\n",
    "            nn.Linear(128,28*28),\n",
    "            nn.Sigmoid(),\n",
    "        )\n",
    "    \n",
    "    def forward(self,x):\n",
    "        encoded = self.encoder(x)\n",
    "        decoder = eslf.decoder(encoded)\n",
    "        return encoded,decoded\n",
    "    "
   ]
  },
  {
   "cell_type": "code",
   "execution_count": null,
   "metadata": {
    "collapsed": true
   },
   "outputs": [],
   "source": []
  }
 ],
 "metadata": {
  "kernelspec": {
   "display_name": "Python 3",
   "language": "python",
   "name": "python3"
  },
  "language_info": {
   "codemirror_mode": {
    "name": "ipython",
    "version": 3
   },
   "file_extension": ".py",
   "mimetype": "text/x-python",
   "name": "python",
   "nbconvert_exporter": "python",
   "pygments_lexer": "ipython3",
   "version": "3.6.4"
  }
 },
 "nbformat": 4,
 "nbformat_minor": 2
}
