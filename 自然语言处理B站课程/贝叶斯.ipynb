{
 "cells": [
  {
   "cell_type": "markdown",
   "metadata": {},
   "source": [
    "## 朴素贝叶斯"
   ]
  },
  {
   "cell_type": "markdown",
   "metadata": {},
   "source": [
    "### 基本公式：\n",
    "$p(Y|X)=\\frac{P(X|Y)P(Y)}{P(X)}$<br>\n",
    "其中P(Y)叫做先验概率，P(Y|X)称为后验概率。<br><br>\n",
    "从机器学习的角度：<br>\n",
    "$P(“属于某类”|“具有某特征”)=\\frac{P(“具有某特征”|“属于某类”)P(“属于某类”)}{P(“属于某特征”)}$<br>\n",
    "我们的任务是根据某一特征去预测它所属的类，因此分母是固定的。从分子的角度看，其实贝叶斯考虑的是两个方面：其一是假设该样本属于某一类，该类出现样本所呈现的特征的概率是多少；二是要考虑该类出现的概率，假设某类出现的概率非常低，在预测时从直观上来说是要打折购的。"
   ]
  },
  {
   "cell_type": "markdown",
   "metadata": {},
   "source": [
    "### 条件独立假设\n",
    "一般来说特征的维度是非常多的$P(“具有某特征”|“属于某类”)$通常具体为<br>\n",
    "$P(“具有特征1，具有特征2..，具有特征n”|“属于某类”)$<br>\n",
    "条件独立假设将上式简化为<br>\n",
    "$P(“具有特征1”|“属于某类”)P(“具有特征2”|“属于某类”)..P(“具有特征n”|“属于某类”)$"
   ]
  },
  {
   "cell_type": "markdown",
   "metadata": {},
   "source": [
    "### 两种模型\n",
    "1.伯努利模型<br>\n",
    "2.多项式模型<br>"
   ]
  },
  {
   "cell_type": "markdown",
   "metadata": {},
   "source": [
    "### 应用举例：垃圾邮件分类\n",
    "这是一个二分类问题。对于一封新邮件，先分词，然后将每个每个词都作为一个特征，再计算。"
   ]
  },
  {
   "cell_type": "markdown",
   "metadata": {},
   "source": [
    "### 延伸\n",
    "最大似然法实际上就是贝叶斯方法在假设各分类先验概率相等的版本"
   ]
  },
  {
   "cell_type": "markdown",
   "metadata": {},
   "source": [
    "## n-gram语言模型"
   ]
  },
  {
   "cell_type": "markdown",
   "metadata": {},
   "source": [
    "参考：\n",
    "http://52opencourse.com/111/斯坦福大学自然语言处理第四课-语言模型（language-modeling）\n",
    "<br>\n",
    "\n",
    "联合概率链规则：\n",
    "$$p(x_1,x_2,...,x_n)=p(x_1)p(x_2|x_1)p(x_3|x_1,x_2)...p(x_n|x_1,x_2,...,x_{n-1})$$\n",
    "2-gram:\n",
    "$$p(x_1,x_2,...,x_n)=p(x_1)p(x_2|x_1)p(x_3|x_2)...p(x_n|x_{n-1})$$"
   ]
  },
  {
   "cell_type": "code",
   "execution_count": null,
   "metadata": {
    "collapsed": true
   },
   "outputs": [],
   "source": []
  }
 ],
 "metadata": {
  "kernelspec": {
   "display_name": "Python 3",
   "language": "python",
   "name": "python3"
  },
  "language_info": {
   "codemirror_mode": {
    "name": "ipython",
    "version": 3
   },
   "file_extension": ".py",
   "mimetype": "text/x-python",
   "name": "python",
   "nbconvert_exporter": "python",
   "pygments_lexer": "ipython3",
   "version": "3.6.3"
  }
 },
 "nbformat": 4,
 "nbformat_minor": 2
}
