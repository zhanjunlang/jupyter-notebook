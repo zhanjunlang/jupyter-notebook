{
 "cells": [
  {
   "cell_type": "markdown",
   "metadata": {},
   "source": [
    "## 字符串操作"
   ]
  },
  {
   "cell_type": "markdown",
   "metadata": {},
   "source": [
    "*** 去掉空格和符号 *** <br>\n",
    "Python strip() 方法用于移除字符串头尾指定的字符（默认为空格）。注意，中间的空格并不去除。"
   ]
  },
  {
   "cell_type": "code",
   "execution_count": 15,
   "metadata": {},
   "outputs": [
    {
     "name": "stdout",
     "output_type": "stream",
     "text": [
      "Hello,   World!\n",
      "World!\n",
      "  Hello,   World\n"
     ]
    }
   ],
   "source": [
    "s = '  Hello,   World!'\n",
    "print(s.strip())\n",
    "print(s.lstrip('Helo, ')) #也可以是字符集\n",
    "print(s.rstrip('!'))"
   ]
  },
  {
   "cell_type": "markdown",
   "metadata": {},
   "source": [
    "*** 字符串连接 ***"
   ]
  },
  {
   "cell_type": "code",
   "execution_count": 16,
   "metadata": {},
   "outputs": [
    {
     "name": "stdout",
     "output_type": "stream",
     "text": [
      "Hello World\n"
     ]
    }
   ],
   "source": [
    "s1 = 'Hello '\n",
    "s2 = 'World'\n",
    "s1 += s2\n",
    "print(s1)"
   ]
  },
  {
   "cell_type": "markdown",
   "metadata": {},
   "source": [
    "*** 查找字符 ***"
   ]
  },
  {
   "cell_type": "code",
   "execution_count": 32,
   "metadata": {},
   "outputs": [
    {
     "name": "stdout",
     "output_type": "stream",
     "text": [
      "2\n",
      "2\n",
      "-1\n"
     ]
    }
   ],
   "source": [
    "# index找不到会报错，find找不到返回-1\n",
    "str1 = 'zhanjunlang'\n",
    "str2 = 'an'\n",
    "nPos = str1.index(str2)\n",
    "nPos2 = str1.find(str2)\n",
    "nPos3 = str1.find('sfa')\n",
    "print(nPos)\n",
    "print(nPos2)\n",
    "print(nPos3)"
   ]
  },
  {
   "cell_type": "markdown",
   "metadata": {},
   "source": [
    "***比较字符串***"
   ]
  },
  {
   "cell_type": "code",
   "execution_count": 33,
   "metadata": {},
   "outputs": [
    {
     "name": "stdout",
     "output_type": "stream",
     "text": [
      "True\n",
      "True\n",
      "False\n",
      "True\n",
      "False\n",
      "False\n"
     ]
    }
   ],
   "source": [
    "import operator as op\n",
    "str1 = 'long'\n",
    "str2 = 'longer'\n",
    "print(op.lt(str1,str2)) # <\n",
    "print(op.le(str1,str2)) # <=\n",
    "print(op.eq(str1,str2)) # =\n",
    "print(op.ne(str1,str2)) # !=\n",
    "print(op.gt(str1,str2)) # >\n",
    "print(op.ge(str1,str2)) # >="
   ]
  },
  {
   "cell_type": "markdown",
   "metadata": {},
   "source": [
    "*** 字符串的大小写转换 ***"
   ]
  },
  {
   "cell_type": "code",
   "execution_count": 34,
   "metadata": {},
   "outputs": [
    {
     "name": "stdout",
     "output_type": "stream",
     "text": [
      "china\n",
      "USA\n"
     ]
    }
   ],
   "source": [
    "str1 = 'CHINA'\n",
    "str2 = 'usa'\n",
    "print(str1.lower())\n",
    "print(str2.upper())"
   ]
  },
  {
   "cell_type": "markdown",
   "metadata": {},
   "source": [
    "*** 翻转字符串 ***"
   ]
  },
  {
   "cell_type": "code",
   "execution_count": 35,
   "metadata": {},
   "outputs": [
    {
     "name": "stdout",
     "output_type": "stream",
     "text": [
      "cba\n"
     ]
    }
   ],
   "source": [
    "str1 = 'abc'\n",
    "str2 = str1[::-1]\n",
    "print(str2)"
   ]
  },
  {
   "cell_type": "markdown",
   "metadata": {},
   "source": [
    "***分割字符串***"
   ]
  },
  {
   "cell_type": "code",
   "execution_count": 36,
   "metadata": {},
   "outputs": [
    {
     "name": "stdout",
     "output_type": "stream",
     "text": [
      "['abc', 'def', 'ghi']\n"
     ]
    }
   ],
   "source": [
    "s = 'abc,def,ghi'\n",
    "print(s.split(','))"
   ]
  },
  {
   "cell_type": "markdown",
   "metadata": {},
   "source": [
    "## 正则表达式"
   ]
  },
  {
   "cell_type": "markdown",
   "metadata": {},
   "source": [
    "推荐在线校验工具<a>http://regexr.com</a> <br>\n",
    "练习网站 <a>https://alf.nu/RegexGolf</a>"
   ]
  },
  {
   "cell_type": "markdown",
   "metadata": {},
   "source": [
    "基本模式 | 说明\n",
    "---|---\n",
    ". | 匹配除\\n外的所有字符\n",
    "\\d | 匹配所有数字\n",
    "\\D | 除数字外的所有字符\n",
    "\\s | 匹配任何空白字符，包括空格、制表符、换页符等等。等价于 [ \\f\\n\\r\\t\\v]\n",
    "\\S | \\s的补集\n",
    "\\w | [A-Za-z0-9_] \n",
    "\\W | \\w的补集\n",
    "[ ] | 表示或，[abe]即匹配a或b或e"
   ]
  },
  {
   "cell_type": "markdown",
   "metadata": {},
   "source": [
    "组合功能 | 说明\n",
    "---|---\n",
    "\\d{2} | 匹配两个连续的数字\n",
    "\\d{2,4} | 匹配2到4个数字，优先匹配4个连续的数字\n",
    "？ | 匹配前一个字符0次或1次，等价于{0,1}\n",
    "* | 0次或无限次\n",
    "+ | 1次或无限次\n",
    "( )| 括号内的所有内容作为一个整体\n",
    "&#x7C; |   表示或，匹配竖线前的表达式或者竖线后的表达式\n",
    "^ | 如^A是匹配大写字母A，这个字母必须在一行的开头,如果多行标示被设置成了true\n",
    "[^] | 注意这里的^出现在[ ]即一个字符集内，这种情况下表示非得意思，即匹配除字符集外的字符\n",
    "\\$ | 如b$是匹配小b，这个b要在一行的结尾,如果多行标示被设置成了true\n",
    "分组 | 凡是被括号括起来的表达式都会自动被分配一个编号，后面可以用\\\\+编号来引用,注意：反向引用，引用的是前面捕获组中的文本而不是正则，也就是说反向引用处匹配的文本应和前面捕获组中的文本相同，这一点很重要"
   ]
  },
  {
   "cell_type": "markdown",
   "metadata": {},
   "source": [
    "***代码*** <br>\n",
    "Python通过re模块提供对正则表达式的支持。<br>\n",
    "使用re的一般步骤为<br>\n",
    "* 将正则表达式的字符串形式编译为Pattern实例\n",
    "* 使用Pattern实例处理文本并获得匹配结果(一个Match实例)\n",
    "* 使用Match实例获得信息，进行其他操作"
   ]
  },
  {
   "cell_type": "code",
   "execution_count": 96,
   "metadata": {},
   "outputs": [
    {
     "name": "stdout",
     "output_type": "stream",
     "text": [
      "hello, zhanjunlang!\n",
      "hello, zhanjunlang!\n"
     ]
    }
   ],
   "source": [
    "import re\n",
    "\n",
    "pattern = re.compile(r'hello.*!')\n",
    "\n",
    "'''\n",
    "re.match只匹配字符串的开始，如果字符串开始不符合正则表达式，\n",
    "则匹配失败，函数返回None；\n",
    "而re.search匹配整个字符串，直到找到一个匹配。\n",
    "'''\n",
    "match = pattern.match('hello, zhanjunlang! How are you?')\n",
    "search = pattern.search('hello, zhanjunlang! How are you?')\n",
    "\n",
    "if(match):\n",
    "    print(match.group())\n",
    "\n",
    "if(search):\n",
    "    print(search.group())"
   ]
  },
  {
   "cell_type": "markdown",
   "metadata": {},
   "source": [
    "其实search和match方法返回的都是Match对象"
   ]
  },
  {
   "cell_type": "code",
   "execution_count": 97,
   "metadata": {},
   "outputs": [
    {
     "name": "stdout",
     "output_type": "stream",
     "text": [
      "<_sre.SRE_Match object; span=(0, 19), match='hello, zhanjunlang!'>\n",
      "<_sre.SRE_Match object; span=(0, 19), match='hello, zhanjunlang!'>\n"
     ]
    }
   ],
   "source": [
    "print(search)\n",
    "print(match)"
   ]
  },
  {
   "cell_type": "markdown",
   "metadata": {},
   "source": [
    "compile中还可以加flag参数<br>\n",
    "flags : 可选，表示匹配模式，比如忽略大小写，多行模式等，具体参数为：<br>\n",
    "* re.I 忽略大小写\n",
    "* re.L 表示特殊字符集 \\w, \\W, \\b, \\B, \\s, \\S 依赖于当前环境\n",
    "* re.M 多行模式\n",
    "* re.S 即为 . 并且包括换行符在内的任意字符（. 不包括换行符）\n",
    "* re.U 表示特殊字符集 \\w, \\W, \\b, \\B, \\d, \\D, \\s, \\S 依赖于 Unicode 字符属性数据库\n",
    "* re.X 为了增加可读性，忽略空格和 # 后面的注释"
   ]
  },
  {
   "cell_type": "markdown",
   "metadata": {},
   "source": [
    "*** Match对象的一些属性和方法 ***"
   ]
  },
  {
   "cell_type": "code",
   "execution_count": 101,
   "metadata": {},
   "outputs": [
    {
     "name": "stdout",
     "output_type": "stream",
     "text": [
      "hello zhanjunlang!\n",
      "re.compile('(\\\\w+) (\\\\w+)(!)')\n",
      "0\n",
      "18\n",
      "3\n",
      "None\n",
      "hello zhanjunlang!\n",
      "('hello', 'zhanjunlang', '!')\n",
      "('hello', 'zhanjunlang')\n",
      "6\n",
      "17\n",
      "(6, 17)\n",
      "zhanjunlang hello!\n"
     ]
    }
   ],
   "source": [
    "pattern = re.compile(r'(\\w+) (\\w+)(!)') #每个括号代表一个分组\n",
    "match = pattern.match('hello zhanjunlang!')\n",
    "\n",
    "\n",
    "print(match.string)\n",
    "print(match.re)\n",
    "print(match.pos)\n",
    "print(match.endpos)\n",
    "print(match.lastindex)\n",
    "print(match.lastgroup)\n",
    "\n",
    "\n",
    "print(match.group())\n",
    "print(match.groups())\n",
    "print(match.group(1,2))\n",
    "#第二个分组的起始位置\n",
    "print(match.start(2))\n",
    "print(match.end(2))\n",
    "#第二个分组的起始和终结位置\n",
    "print(match.span(2))\n",
    "#重新排列不同的分组\n",
    "print(match.expand(r'\\2 \\1\\3'))"
   ]
  },
  {
   "cell_type": "markdown",
   "metadata": {},
   "source": [
    "*** pattern对象的一些方法 ***"
   ]
  },
  {
   "cell_type": "code",
   "execution_count": 103,
   "metadata": {},
   "outputs": [
    {
     "name": "stdout",
     "output_type": "stream",
     "text": [
      "['one', 'two', 'three', 'four']\n",
      "['1', '2', '3']\n",
      "onetwothreefour\n"
     ]
    }
   ],
   "source": [
    "p = re.compile(r'\\d+')\n",
    "\n",
    "#以pattern匹配到的字符串作为分割依据\n",
    "print(p.split('one1two2three3four')) \n",
    "\n",
    "#以列表形式返回全部能匹配的子串\n",
    "print(p.findall('one1two2three3four'))\n",
    "\n",
    "#替换匹配到的字符串，下面的例子是将数字用空白代替\n",
    "print(p.sub('','one1two2three3four'))"
   ]
  },
  {
   "cell_type": "code",
   "execution_count": null,
   "metadata": {
    "collapsed": true
   },
   "outputs": [],
   "source": []
  }
 ],
 "metadata": {
  "kernelspec": {
   "display_name": "Python 3",
   "language": "python",
   "name": "python3"
  },
  "language_info": {
   "codemirror_mode": {
    "name": "ipython",
    "version": 3
   },
   "file_extension": ".py",
   "mimetype": "text/x-python",
   "name": "python",
   "nbconvert_exporter": "python",
   "pygments_lexer": "ipython3",
   "version": "3.6.4"
  }
 },
 "nbformat": 4,
 "nbformat_minor": 2
}
