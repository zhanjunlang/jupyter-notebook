{
 "cells": [
  {
   "cell_type": "markdown",
   "metadata": {},
   "source": [
    "# import library"
   ]
  },
  {
   "cell_type": "code",
   "execution_count": 1,
   "metadata": {},
   "outputs": [],
   "source": [
    "import numpy as np\n",
    "from scipy.stats import norm\n",
    "from sklearn import datasets\n",
    "%matplotlib inline\n",
    "import matplotlib\n",
    "import matplotlib.pyplot as plt \n",
    "from sklearn import linear_model"
   ]
  },
  {
   "cell_type": "markdown",
   "metadata": {},
   "source": [
    "# Import ''diabetes''"
   ]
  },
  {
   "cell_type": "code",
   "execution_count": 11,
   "metadata": {},
   "outputs": [
    {
     "name": "stdout",
     "output_type": "stream",
     "text": [
      "(442, 10)\n",
      "(442,)\n"
     ]
    }
   ],
   "source": [
    "datasets.load_diabetes()\n",
    "\n",
    "diabetes = datasets.load_diabetes()\n",
    "diabetes_X = diabetes.data\n",
    "diabetes_y = diabetes.target\n",
    "print(diabetes_X.shape)\n",
    "print(diabetes_y.shape)"
   ]
  },
  {
   "cell_type": "markdown",
   "metadata": {},
   "source": [
    "Each variable is centered and standardized:"
   ]
  },
  {
   "cell_type": "code",
   "execution_count": 12,
   "metadata": {},
   "outputs": [
    {
     "name": "stdout",
     "output_type": "stream",
     "text": [
      "[ -1.60635394e-13   5.78287418e-14  -3.55604435e-13   5.66491298e-14\n",
      "  -3.90520949e-14   5.86544702e-14  -2.02199368e-13   1.66956726e-13\n",
      "  -1.69323756e-13  -1.50849385e-13]\n",
      "[[ 1.          0.1737371   0.18508467  0.33542671  0.26006082  0.21924314\n",
      "  -0.07518097  0.2038409   0.27077678  0.30173101]\n",
      " [ 0.1737371   1.          0.0881614   0.24101317  0.03527682  0.14263726\n",
      "  -0.37908963  0.33211509  0.14991756  0.20813322]\n",
      " [ 0.18508467  0.0881614   1.          0.39541532  0.24977742  0.26116991\n",
      "  -0.36681098  0.4138066   0.44615865  0.38867999]\n",
      " [ 0.33542671  0.24101317  0.39541532  1.          0.24246971  0.18555783\n",
      "  -0.17876121  0.25765337  0.39347814  0.39042938]\n",
      " [ 0.26006082  0.03527682  0.24977742  0.24246971  1.          0.89666296\n",
      "   0.05151936  0.54220728  0.51550076  0.32571675]\n",
      " [ 0.21924314  0.14263726  0.26116991  0.18555783  0.89666296  1.\n",
      "  -0.19645512  0.65981689  0.3183534   0.29060038]\n",
      " [-0.07518097 -0.37908963 -0.36681098 -0.17876121  0.05151936 -0.19645512\n",
      "   1.         -0.73849273 -0.398577   -0.2736973 ]\n",
      " [ 0.2038409   0.33211509  0.4138066   0.25765337  0.54220728  0.65981689\n",
      "  -0.73849273  1.          0.61785739  0.41721211]\n",
      " [ 0.27077678  0.14991756  0.44615865  0.39347814  0.51550076  0.3183534\n",
      "  -0.398577    0.61785739  1.          0.46467046]\n",
      " [ 0.30173101  0.20813322  0.38867999  0.39042938  0.32571675  0.29060038\n",
      "  -0.2736973   0.41721211  0.46467046  1.        ]]\n"
     ]
    }
   ],
   "source": [
    "print(diabetes_X.sum(axis = 0))\n",
    "print(np.dot(np.transpose(diabetes_X),diabetes_X))"
   ]
  },
  {
   "cell_type": "markdown",
   "metadata": {},
   "source": [
    "# To increase the level of difficulty, we add some (insignificant) Gaussian variable to the database"
   ]
  },
  {
   "cell_type": "code",
   "execution_count": 13,
   "metadata": {},
   "outputs": [
    {
     "data": {
      "text/plain": [
       "(442, 110)"
      ]
     },
     "execution_count": 13,
     "metadata": {},
     "output_type": "execute_result"
    }
   ],
   "source": [
    "n = diabetes_X.shape[0]\n",
    "\n",
    "xadd = np.random.normal(0,1,[n,100])\n",
    "\n",
    "diabetes_X  = np.column_stack((diabetes_X,xadd))\n",
    "diabetes_X.shape"
   ]
  },
  {
   "cell_type": "markdown",
   "metadata": {},
   "source": [
    "# Now we split the sample in two parts: A training set and a test set "
   ]
  },
  {
   "cell_type": "code",
   "execution_count": 14,
   "metadata": {},
   "outputs": [
    {
     "data": {
      "text/plain": [
       "((300, 110), (141, 110), (300,), (141,))"
      ]
     },
     "execution_count": 14,
     "metadata": {},
     "output_type": "execute_result"
    }
   ],
   "source": [
    "diabetes_X_learn = diabetes_X[:300] \n",
    "diabetes_y_learn = diabetes_y[:300]\n",
    "diabetes_X_test = diabetes_X[301:]\n",
    "diabetes_y_test = diabetes_y[301:]\n",
    "\n",
    "diabetes_X_learn.shape ,diabetes_X_test.shape , diabetes_y_learn.shape , diabetes_y_test.shape"
   ]
  },
  {
   "cell_type": "markdown",
   "metadata": {},
   "source": [
    "OLS with sk learn (we keep in R1 the prediction error computed on the test set)"
   ]
  },
  {
   "cell_type": "code",
   "execution_count": 23,
   "metadata": {},
   "outputs": [
    {
     "name": "stdout",
     "output_type": "stream",
     "text": [
      "[ -8.00214672e+01  -2.66813982e+02   5.95805631e+02   3.65105225e+02\n",
      "  -1.95034559e+02  -1.45357177e+02   7.28307376e+00   4.03139084e+02\n",
      "   4.77443850e+02   5.88106522e+01   1.20549126e+01   5.21773049e-01\n",
      "  -4.18101313e+00  -2.53721073e+00  -3.11306945e+00   2.16904514e+00\n",
      "   1.60383231e+00   5.77083943e+00   4.37153418e-02  -3.61994688e+00\n",
      "   1.63480372e-01   6.55075268e+00   7.94515698e+00   1.52425072e-01\n",
      "   3.19226393e+00  -2.80722191e+00   7.25072645e-01   7.79109910e+00\n",
      "   5.21156879e+00   9.02166125e-01  -5.49415362e-01   3.92345406e+00\n",
      "   1.94503174e+00  -1.03615196e+00  -1.49710209e+00   4.36503017e+00\n",
      "  -1.66176245e-01   1.62731879e+00   3.39816941e-01   1.83307059e+00\n",
      "  -2.71913770e+00   8.66652572e+00  -5.49467668e+00  -1.17328925e+00\n",
      "   2.21243257e+00  -3.89525521e+00  -4.93649280e+00  -4.06009589e+00\n",
      "  -2.32546123e+00   2.39834499e-01   5.83384269e+00   3.86865784e+00\n",
      "  -7.94515875e-01  -2.14955604e+00   4.42185927e+00   1.71691276e+00\n",
      "  -3.19450376e-01   8.71343251e+00   1.57332702e+00  -7.80768073e+00\n",
      "  -2.58374345e+00   7.36334397e+00  -3.84049776e+00  -2.89332582e+00\n",
      "  -5.68716904e+00  -5.03731678e+00   3.91539872e+00   3.26199168e+00\n",
      "   4.43398139e-01   4.58853753e+00   2.01112783e+00   3.41507713e+00\n",
      "   5.02872009e+00  -2.19717052e+00  -6.60511038e+00  -1.38220261e+00\n",
      "  -2.24121889e-01  -1.66295410e+00   5.22940616e+00  -3.62462589e+00\n",
      "   4.01884593e+00  -8.14447009e+00   2.64451992e+00   1.98495045e-01\n",
      "  -6.48163278e+00  -7.80365230e+00  -6.49500792e+00  -2.65766368e-01\n",
      "   2.94214565e+00  -5.55211567e-01  -6.83731969e-01   5.48191516e+00\n",
      "  -4.48813870e+00  -6.51981338e+00   3.60771889e+00  -1.76922128e+00\n",
      "   1.10950668e+00  -2.77358867e-01   1.10600749e+00   3.81111343e+00\n",
      "   1.84481378e+00  -5.64131286e-01   7.24016719e+00  -3.11794272e+00\n",
      "   2.62637491e+00  -2.26034095e+00   5.21523253e+00   7.17057609e+00\n",
      "  -6.44218720e+00  -2.14574894e+00]\n",
      "150.638759608\n"
     ]
    }
   ],
   "source": [
    "regr = linear_model.LinearRegression()\n",
    "regr.fit(diabetes_X_learn , diabetes_y_learn)\n",
    "\n",
    "print(regr.coef_)\n",
    "\n",
    "print(regr.intercept_)\n",
    "\n",
    "R1 = regr.predict(diabetes_X_test) - diabetes_y_test"
   ]
  },
  {
   "cell_type": "markdown",
   "metadata": {},
   "source": [
    "# A first graph to visualize the residuals"
   ]
  },
  {
   "cell_type": "code",
   "execution_count": 25,
   "metadata": {},
   "outputs": [
    {
     "data": {
      "image/png": "[encoded data removed]",
      "text/plain": [
       "<matplotlib.figure.Figure at 0x1f261288978>"
      ]
     },
     "metadata": {},
     "output_type": "display_data"
    }
   ],
   "source": [
    "ypred_tmp = np.dot(diabetes_X_learn , regr.coef_ )\n",
    "ypred = ypred_tmp +  regr.intercept_ \n",
    "#ypred = regr.predict(diabetes_X)\n",
    "\n",
    "\n",
    "plt.figure() \n",
    "plt.plot(ypred_tmp , ypred)\n",
    "plt.scatter(ypred_tmp , diabetes_y_learn , s =3 )\n",
    "plt.title(\"y et y_pred vs xbeta\")\n",
    "plt.show()\n"
   ]
  },
  {
   "cell_type": "markdown",
   "metadata": {},
   "source": [
    "# Forward variable selection"
   ]
  },
  {
   "cell_type": "code",
   "execution_count": 42,
   "metadata": {},
   "outputs": [],
   "source": [
    "diabetes_X_aug = np.column_stack( (np.ones( (diabetes_X_learn.shape[0], 1 )), diabetes_X_learn )) \n",
    "\n",
    "p = diabetes_X_aug.shape[1]\n",
    "n = diabetes_X_aug.shape[0]\n",
    "\n",
    "test = np.zeros((p,p))\n",
    "pval_mem = np.zeros(p)\n",
    "pval = np.zeros((p,p))\n",
    "resids = diabetes_y_learn\n",
    "\n",
    "var_sel = []\n",
    "var_remain = list(range(p))\n",
    "in_test = []\n",
    "\n",
    "\n",
    "regr = linear_model.LinearRegression(fit_intercept = False)\n",
    "\n",
    "\n",
    "for k in range(p): \n",
    "    resids_mem = np.zeros((p,n))\n",
    "\n",
    "    for i in var_remain:\n",
    "        xtmp = diabetes_X_aug [:,[i]] #抽出一列数据单独去和y做训练\n",
    "        regr.fit(xtmp , resids)\n",
    "        \n",
    "        #calcul de (x'x)\n",
    "        xx = np.sum( diabetes_X_aug [:,[i]] ** 2 )    \n",
    "        resids_mem [i,:] = regr.predict(xtmp) - resids \n",
    "        #resids_mem [i,:] = resids - regr.predict(xtmp) \n",
    "        sigma2_tmp = np.sum (resids_mem [i,:] ** 2) / xx\n",
    "        test[k,i] = np.sqrt(n) * np.abs(regr.coef_) / (np.sqrt( sigma2_tmp )) \n",
    "        pval[k,i] =   2 * (1 - norm.cdf(test[k,i]))\n",
    "\n",
    "    ####separe en deux vecteurs la listes des variables séléctionnées et les autres\n",
    "    best_var = np.argmax(test[k,:])\n",
    "    var_sel.append(best_var)\n",
    "    resids = resids_mem[best_var,:]\n",
    "    pval_mem [k] = pval[k,best_var]\n",
    "    var_remain = np.setdiff1d(var_remain,var_sel)\n",
    "\n"
   ]
  },
  {
   "cell_type": "markdown",
   "metadata": {},
   "source": [
    "Let us plot the value of the test statistic for the 3 first steps"
   ]
  },
  {
   "cell_type": "code",
   "execution_count": 43,
   "metadata": {},
   "outputs": [
    {
     "data": {
      "image/png": "[encoded data removed]",
      "text/plain": [
       "<matplotlib.figure.Figure at 0x1f2612a1ac8>"
      ]
     },
     "metadata": {},
     "output_type": "display_data"
    }
   ],
   "source": [
    "def foo(s1):\n",
    "    return \"step %s\" % s1\n",
    "\n",
    "fig = plt.figure()\n",
    "for k in range(3): \n",
    "    lab_tmp = foo(k)\n",
    "    plt.plot(np.arange(p),test[k,:], '-o',label = lab_tmp)\n",
    "    plt.axis(xmin = -.5,xmax = 20,ymin = -1)\n",
    "plt.legend(loc=1)\n",
    "plt.title(\"values of the t-stat at each steps\")\n",
    "plt.xlabel(\"features\")\n",
    "plt.show()"
   ]
  },
  {
   "cell_type": "markdown",
   "metadata": {},
   "source": [
    "At each step one may look at the pvalue associated to the selected variable "
   ]
  },
  {
   "cell_type": "code",
   "execution_count": 44,
   "metadata": {},
   "outputs": [
    {
     "data": {
      "image/png": "[encoded data removed]",
      "text/plain": [
       "<matplotlib.figure.Figure at 0x1f261279320>"
      ]
     },
     "metadata": {},
     "output_type": "display_data"
    }
   ],
   "source": [
    "fig2 = plt.figure() \n",
    "for k in range(3): \n",
    "    plt.plot(np.arange(p),pval_mem, 'o')\n",
    "    plt.plot([-0.5,50],[.1,.1],color = \"blue\" )\n",
    "    plt.axis(xmin = -.5,xmax = 50,ymin = -.03)\n",
    "plt.title(\"plot of the pvalues\")\n",
    "plt.xlabel(\"steps\")\n",
    "plt.show()"
   ]
  },
  {
   "cell_type": "markdown",
   "metadata": {},
   "source": [
    "# We obtained the following selected variables"
   ]
  },
  {
   "cell_type": "code",
   "execution_count": 45,
   "metadata": {},
   "outputs": [
    {
     "name": "stdout",
     "output_type": "stream",
     "text": [
      "variables sélectionnées (dans l'ordre):  [  0   3   9   5  43  58  46  18  11   4   2  28 108 103  23  86 109  22\n",
      "  62  60  13]\n"
     ]
    }
   ],
   "source": [
    "print(\"variables sélectionnées (dans l'ordre): \" , \n",
    "      np.array(var_sel)[pval_mem<.1])"
   ]
  },
  {
   "cell_type": "markdown",
   "metadata": {},
   "source": [
    "# Now we can run OLS with the selected variables"
   ]
  },
  {
   "cell_type": "code",
   "execution_count": 46,
   "metadata": {},
   "outputs": [
    {
     "name": "stdout",
     "output_type": "stream",
     "text": [
      "[  3.02834680e+02   2.76350227e+02  -2.80598527e+02  -6.12442361e-01\n",
      "  -1.69362212e+00  -4.73402719e+00   3.61290050e+00   1.18454136e-01\n",
      "   1.82799876e+02   7.83361418e+02   5.95949284e+00  -6.74321098e+00\n",
      "  -2.67967644e+00   2.78206408e+00  -1.63001112e+00   1.01905802e+00\n",
      "   3.72253177e+00   9.66099211e-01  -4.90876634e+00  -5.42895295e+00]\n",
      "151.84583758\n"
     ]
    }
   ],
   "source": [
    "sel = np.array(var_sel)[pval_mem<.1]\n",
    "k = np.count_nonzero(sel)\n",
    "sel = sel[1:]\n",
    "X_learn_forward = diabetes_X_learn[:,sel]\n",
    "\n",
    "regr = linear_model.LinearRegression()\n",
    "regr.fit(X_learn_forward , diabetes_y_learn)\n",
    "\n",
    "print(regr.coef_)\n",
    "print(regr.intercept_)\n",
    "\n",
    "R2 = regr.predict(  diabetes_X_test[:,sel] )  - diabetes_y_test"
   ]
  },
  {
   "cell_type": "markdown",
   "metadata": {},
   "source": [
    "# Finally, we compare OLS and OLS with forward variable selection according the prediction risk computed on the test set"
   ]
  },
  {
   "cell_type": "code",
   "execution_count": 47,
   "metadata": {},
   "outputs": [
    {
     "data": {
      "text/plain": [
       "(607295.61058817827, 482641.17694894876)"
      ]
     },
     "execution_count": 47,
     "metadata": {},
     "output_type": "execute_result"
    }
   ],
   "source": [
    "sum(R1 ** 2 )  , sum ( R2** 2 )"
   ]
  },
  {
   "cell_type": "code",
   "execution_count": null,
   "metadata": {
    "collapsed": true
   },
   "outputs": [],
   "source": []
  }
 ],
 "metadata": {
  "anaconda-cloud": {},
  "kernelspec": {
   "display_name": "Python 3",
   "language": "python",
   "name": "python3"
  },
  "language_info": {
   "codemirror_mode": {
    "name": "ipython",
    "version": 3
   },
   "file_extension": ".py",
   "mimetype": "text/x-python",
   "name": "python",
   "nbconvert_exporter": "python",
   "pygments_lexer": "ipython3",
   "version": "3.6.1"
  }
 },
 "nbformat": 4,
 "nbformat_minor": 1
}
